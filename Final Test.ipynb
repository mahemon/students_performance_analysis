{
 "cells": [
  {
   "cell_type": "code",
   "execution_count": 71,
   "metadata": {},
   "outputs": [],
   "source": [
    "# Pandas\n",
    "import pandas as pd \n",
    "\n",
    "# Numpy\n",
    "import numpy as np # linear algebra\n",
    "\n",
    "# matplotlib\n",
    "import matplotlib.pyplot as plt\n",
    "\n",
    "# Ipython tool for figsize\n",
    "from IPython.core.pylabtools import figsize\n",
    "\n",
    "# train test split\n",
    "from sklearn.model_selection import train_test_split\n",
    "\n",
    "# Pipeline\n",
    "from sklearn.pipeline import Pipeline\n",
    "\n",
    "# DictVectorizer\n",
    "from sklearn.feature_extraction import DictVectorizer\n",
    "\n",
    "\n",
    "\n",
    "# cross_val_score\n",
    "from sklearn.model_selection import cross_val_score\n",
    "\n",
    "\n",
    "# Imputer\n",
    "#from sklearn.preprocessing import Imputer\n",
    "\n",
    "\n",
    "# FeatureUnion\n",
    "from sklearn.pipeline import FeatureUnion\n",
    "\n",
    "# Function Transformer\n",
    "from sklearn.preprocessing import FunctionTransformer\n",
    "\n",
    "# ROC AUC\n",
    "from sklearn.metrics import roc_auc_score, roc_curve\n",
    "\n",
    "#from sklearn import impute\n",
    "from sklearn import metrics\n",
    "from scipy.stats import chisquare\n",
    "from sklearn.svm import SVC\n",
    "\n",
    "from sklearn.ensemble import RandomForestRegressor\n",
    "from sklearn.feature_selection import RFE\n",
    "from sklearn.metrics import accuracy_score, classification_report, confusion_matrix, roc_auc_score, roc_curve, auc\n",
    "from sklearn.linear_model import LogisticRegression\n",
    "from sklearn.ensemble import RandomForestClassifier\n",
    "\n",
    "#decision tree\n",
    "from sklearn.tree import DecisionTreeClassifier # Import Decision Tree Classifier\n",
    "from sklearn.model_selection import train_test_split # Import train_test_split function\n",
    "from sklearn import metrics #Import scikit-learn metrics module for accuracy calculation\n",
    "\n",
    "import warnings\n",
    "warnings.filterwarnings(\"ignore\", category=FutureWarning)\n",
    "warnings.filterwarnings(\"ignore\", category=DeprecationWarning)\n",
    "\n",
    "\n",
    "from sklearn.feature_selection import SelectKBest\n",
    "from sklearn.feature_selection import chi2 as sklearn_chi2\n",
    "\n",
    "# Import label encoder \n",
    "from sklearn import preprocessing\n"
   ]
  },
  {
   "cell_type": "markdown",
   "metadata": {},
   "source": [
    "# Load and Review Data"
   ]
  },
  {
   "cell_type": "code",
   "execution_count": 72,
   "metadata": {},
   "outputs": [],
   "source": [
    "data_frame = pd.read_csv('surveyWorksheet2.csv')"
   ]
  },
  {
   "cell_type": "code",
   "execution_count": 73,
   "metadata": {},
   "outputs": [
    {
     "data": {
      "text/plain": [
       "(518, 18)"
      ]
     },
     "execution_count": 73,
     "metadata": {},
     "output_type": "execute_result"
    }
   ],
   "source": [
    "data_frame.shape"
   ]
  },
  {
   "cell_type": "code",
   "execution_count": 74,
   "metadata": {},
   "outputs": [
    {
     "data": {
      "text/html": [
       "<div>\n",
       "<style scoped>\n",
       "    .dataframe tbody tr th:only-of-type {\n",
       "        vertical-align: middle;\n",
       "    }\n",
       "\n",
       "    .dataframe tbody tr th {\n",
       "        vertical-align: top;\n",
       "    }\n",
       "\n",
       "    .dataframe thead th {\n",
       "        text-align: right;\n",
       "    }\n",
       "</style>\n",
       "<table border=\"1\" class=\"dataframe\">\n",
       "  <thead>\n",
       "    <tr style=\"text-align: right;\">\n",
       "      <th></th>\n",
       "      <th>gender</th>\n",
       "      <th>nationality</th>\n",
       "      <th>placeOfBirth</th>\n",
       "      <th>department</th>\n",
       "      <th>batch</th>\n",
       "      <th>semester</th>\n",
       "      <th>section</th>\n",
       "      <th>lastSemesterGradePoint</th>\n",
       "      <th>questionsAskInTheClassroom</th>\n",
       "      <th>questionsAskedInTheClassroom</th>\n",
       "      <th>goThroughCourseMaterials</th>\n",
       "      <th>goThroughCourseMaterial</th>\n",
       "      <th>meetWithAcademicAdviser</th>\n",
       "      <th>groupStudyHours</th>\n",
       "      <th>studentAbsenceDays</th>\n",
       "      <th>parentsSatisfaction</th>\n",
       "      <th>educationStatusofParents</th>\n",
       "      <th>Class</th>\n",
       "    </tr>\n",
       "  </thead>\n",
       "  <tbody>\n",
       "    <tr>\n",
       "      <th>0</th>\n",
       "      <td>M</td>\n",
       "      <td>Bangladesh</td>\n",
       "      <td>Dhaka</td>\n",
       "      <td>SWE</td>\n",
       "      <td>16</td>\n",
       "      <td>Summer</td>\n",
       "      <td>A</td>\n",
       "      <td>3.66</td>\n",
       "      <td>M</td>\n",
       "      <td>10</td>\n",
       "      <td>L</td>\n",
       "      <td>24</td>\n",
       "      <td>3</td>\n",
       "      <td>10</td>\n",
       "      <td>5</td>\n",
       "      <td>Yes</td>\n",
       "      <td>Above HSC</td>\n",
       "      <td>M</td>\n",
       "    </tr>\n",
       "    <tr>\n",
       "      <th>1</th>\n",
       "      <td>M</td>\n",
       "      <td>Bangladesh</td>\n",
       "      <td>Munshiganj</td>\n",
       "      <td>SWE</td>\n",
       "      <td>17</td>\n",
       "      <td>Summer</td>\n",
       "      <td>B</td>\n",
       "      <td>2.25</td>\n",
       "      <td>M</td>\n",
       "      <td>8</td>\n",
       "      <td>M</td>\n",
       "      <td>118</td>\n",
       "      <td>4</td>\n",
       "      <td>30</td>\n",
       "      <td>19</td>\n",
       "      <td>Yes</td>\n",
       "      <td>Above HSC</td>\n",
       "      <td>L</td>\n",
       "    </tr>\n",
       "    <tr>\n",
       "      <th>2</th>\n",
       "      <td>M</td>\n",
       "      <td>Bangladesh</td>\n",
       "      <td>Cumilla</td>\n",
       "      <td>SWE</td>\n",
       "      <td>17</td>\n",
       "      <td>Spring</td>\n",
       "      <td>A</td>\n",
       "      <td>3.25</td>\n",
       "      <td>M</td>\n",
       "      <td>5</td>\n",
       "      <td>M</td>\n",
       "      <td>12</td>\n",
       "      <td>2</td>\n",
       "      <td>4</td>\n",
       "      <td>2</td>\n",
       "      <td>Yes</td>\n",
       "      <td>HSC</td>\n",
       "      <td>L</td>\n",
       "    </tr>\n",
       "    <tr>\n",
       "      <th>3</th>\n",
       "      <td>F</td>\n",
       "      <td>Bangladesh</td>\n",
       "      <td>Dhaka</td>\n",
       "      <td>SWE</td>\n",
       "      <td>18</td>\n",
       "      <td>Summer</td>\n",
       "      <td>B</td>\n",
       "      <td>3.50</td>\n",
       "      <td>M</td>\n",
       "      <td>2</td>\n",
       "      <td>M</td>\n",
       "      <td>11</td>\n",
       "      <td>2</td>\n",
       "      <td>3</td>\n",
       "      <td>7</td>\n",
       "      <td>No</td>\n",
       "      <td>Above HSC</td>\n",
       "      <td>L</td>\n",
       "    </tr>\n",
       "  </tbody>\n",
       "</table>\n",
       "</div>"
      ],
      "text/plain": [
       "  gender nationality placeOfBirth department  batch semester section  \\\n",
       "0      M  Bangladesh        Dhaka        SWE     16   Summer       A   \n",
       "1      M  Bangladesh   Munshiganj        SWE     17   Summer       B   \n",
       "2      M  Bangladesh      Cumilla        SWE     17   Spring       A   \n",
       "3      F  Bangladesh        Dhaka        SWE     18   Summer       B   \n",
       "\n",
       "   lastSemesterGradePoint questionsAskInTheClassroom  \\\n",
       "0                    3.66                          M   \n",
       "1                    2.25                          M   \n",
       "2                    3.25                          M   \n",
       "3                    3.50                          M   \n",
       "\n",
       "   questionsAskedInTheClassroom goThroughCourseMaterials  \\\n",
       "0                            10                        L   \n",
       "1                             8                        M   \n",
       "2                             5                        M   \n",
       "3                             2                        M   \n",
       "\n",
       "   goThroughCourseMaterial  meetWithAcademicAdviser  groupStudyHours  \\\n",
       "0                       24                        3               10   \n",
       "1                      118                        4               30   \n",
       "2                       12                        2                4   \n",
       "3                       11                        2                3   \n",
       "\n",
       "   studentAbsenceDays parentsSatisfaction educationStatusofParents Class  \n",
       "0                   5                 Yes                Above HSC     M  \n",
       "1                  19                 Yes                Above HSC     L  \n",
       "2                   2                 Yes                      HSC     L  \n",
       "3                   7                  No                Above HSC     L  "
      ]
     },
     "execution_count": 74,
     "metadata": {},
     "output_type": "execute_result"
    }
   ],
   "source": [
    "data_frame.head(4)"
   ]
  },
  {
   "cell_type": "markdown",
   "metadata": {},
   "source": [
    "# Null Value Check"
   ]
  },
  {
   "cell_type": "code",
   "execution_count": 75,
   "metadata": {},
   "outputs": [
    {
     "name": "stdout",
     "output_type": "stream",
     "text": [
      "False\n"
     ]
    }
   ],
   "source": [
    "print (data_frame.isnull().values.any())"
   ]
  },
  {
   "cell_type": "code",
   "execution_count": 76,
   "metadata": {},
   "outputs": [
    {
     "data": {
      "text/plain": [
       "<AxesSubplot:>"
      ]
     },
     "execution_count": 76,
     "metadata": {},
     "output_type": "execute_result"
    },
    {
     "data": {
      "image/png": "[encoded data removed]",
      "text/plain": [
       "<Figure size 432x288 with 1 Axes>"
      ]
     },
     "metadata": {
      "needs_background": "light"
     },
     "output_type": "display_data"
    }
   ],
   "source": [
    "data_frame[\"Class\"].value_counts().plot.bar()"
   ]
  },
  {
   "cell_type": "markdown",
   "metadata": {},
   "source": [
    "\n",
    "# One hot encoding"
   ]
  },
  {
   "cell_type": "code",
   "execution_count": 77,
   "metadata": {},
   "outputs": [
    {
     "data": {
      "text/html": [
       "<div>\n",
       "<style scoped>\n",
       "    .dataframe tbody tr th:only-of-type {\n",
       "        vertical-align: middle;\n",
       "    }\n",
       "\n",
       "    .dataframe tbody tr th {\n",
       "        vertical-align: top;\n",
       "    }\n",
       "\n",
       "    .dataframe thead th {\n",
       "        text-align: right;\n",
       "    }\n",
       "</style>\n",
       "<table border=\"1\" class=\"dataframe\">\n",
       "  <thead>\n",
       "    <tr style=\"text-align: right;\">\n",
       "      <th></th>\n",
       "      <th>gender</th>\n",
       "      <th>nationality</th>\n",
       "      <th>placeOfBirth</th>\n",
       "      <th>department</th>\n",
       "      <th>batch</th>\n",
       "      <th>semester</th>\n",
       "      <th>section</th>\n",
       "      <th>lastSemesterGradePoint</th>\n",
       "      <th>questionsAskInTheClassroom</th>\n",
       "      <th>questionsAskedInTheClassroom</th>\n",
       "      <th>goThroughCourseMaterials</th>\n",
       "      <th>goThroughCourseMaterial</th>\n",
       "      <th>meetWithAcademicAdviser</th>\n",
       "      <th>groupStudyHours</th>\n",
       "      <th>studentAbsenceDays</th>\n",
       "      <th>parentsSatisfaction</th>\n",
       "      <th>educationStatusofParents</th>\n",
       "    </tr>\n",
       "  </thead>\n",
       "  <tbody>\n",
       "    <tr>\n",
       "      <th>0</th>\n",
       "      <td>M</td>\n",
       "      <td>Bangladesh</td>\n",
       "      <td>Dhaka</td>\n",
       "      <td>SWE</td>\n",
       "      <td>16</td>\n",
       "      <td>Summer</td>\n",
       "      <td>A</td>\n",
       "      <td>3.66</td>\n",
       "      <td>M</td>\n",
       "      <td>10</td>\n",
       "      <td>L</td>\n",
       "      <td>24</td>\n",
       "      <td>3</td>\n",
       "      <td>10</td>\n",
       "      <td>5</td>\n",
       "      <td>Yes</td>\n",
       "      <td>Above HSC</td>\n",
       "    </tr>\n",
       "    <tr>\n",
       "      <th>1</th>\n",
       "      <td>M</td>\n",
       "      <td>Bangladesh</td>\n",
       "      <td>Munshiganj</td>\n",
       "      <td>SWE</td>\n",
       "      <td>17</td>\n",
       "      <td>Summer</td>\n",
       "      <td>B</td>\n",
       "      <td>2.25</td>\n",
       "      <td>M</td>\n",
       "      <td>8</td>\n",
       "      <td>M</td>\n",
       "      <td>118</td>\n",
       "      <td>4</td>\n",
       "      <td>30</td>\n",
       "      <td>19</td>\n",
       "      <td>Yes</td>\n",
       "      <td>Above HSC</td>\n",
       "    </tr>\n",
       "    <tr>\n",
       "      <th>2</th>\n",
       "      <td>M</td>\n",
       "      <td>Bangladesh</td>\n",
       "      <td>Cumilla</td>\n",
       "      <td>SWE</td>\n",
       "      <td>17</td>\n",
       "      <td>Spring</td>\n",
       "      <td>A</td>\n",
       "      <td>3.25</td>\n",
       "      <td>M</td>\n",
       "      <td>5</td>\n",
       "      <td>M</td>\n",
       "      <td>12</td>\n",
       "      <td>2</td>\n",
       "      <td>4</td>\n",
       "      <td>2</td>\n",
       "      <td>Yes</td>\n",
       "      <td>HSC</td>\n",
       "    </tr>\n",
       "    <tr>\n",
       "      <th>3</th>\n",
       "      <td>F</td>\n",
       "      <td>Bangladesh</td>\n",
       "      <td>Dhaka</td>\n",
       "      <td>SWE</td>\n",
       "      <td>18</td>\n",
       "      <td>Summer</td>\n",
       "      <td>B</td>\n",
       "      <td>3.50</td>\n",
       "      <td>M</td>\n",
       "      <td>2</td>\n",
       "      <td>M</td>\n",
       "      <td>11</td>\n",
       "      <td>2</td>\n",
       "      <td>3</td>\n",
       "      <td>7</td>\n",
       "      <td>No</td>\n",
       "      <td>Above HSC</td>\n",
       "    </tr>\n",
       "  </tbody>\n",
       "</table>\n",
       "</div>"
      ],
      "text/plain": [
       "  gender nationality placeOfBirth department  batch semester section  \\\n",
       "0      M  Bangladesh        Dhaka        SWE     16   Summer       A   \n",
       "1      M  Bangladesh   Munshiganj        SWE     17   Summer       B   \n",
       "2      M  Bangladesh      Cumilla        SWE     17   Spring       A   \n",
       "3      F  Bangladesh        Dhaka        SWE     18   Summer       B   \n",
       "\n",
       "   lastSemesterGradePoint questionsAskInTheClassroom  \\\n",
       "0                    3.66                          M   \n",
       "1                    2.25                          M   \n",
       "2                    3.25                          M   \n",
       "3                    3.50                          M   \n",
       "\n",
       "   questionsAskedInTheClassroom goThroughCourseMaterials  \\\n",
       "0                            10                        L   \n",
       "1                             8                        M   \n",
       "2                             5                        M   \n",
       "3                             2                        M   \n",
       "\n",
       "   goThroughCourseMaterial  meetWithAcademicAdviser  groupStudyHours  \\\n",
       "0                       24                        3               10   \n",
       "1                      118                        4               30   \n",
       "2                       12                        2                4   \n",
       "3                       11                        2                3   \n",
       "\n",
       "   studentAbsenceDays parentsSatisfaction educationStatusofParents  \n",
       "0                   5                 Yes                Above HSC  \n",
       "1                  19                 Yes                Above HSC  \n",
       "2                   2                 Yes                      HSC  \n",
       "3                   7                  No                Above HSC  "
      ]
     },
     "execution_count": 77,
     "metadata": {},
     "output_type": "execute_result"
    }
   ],
   "source": [
    "# X and y\n",
    "Without_class_data_frame = data_frame.drop(columns=['Class'])\n",
    "Without_class_data_frame.head(4)"
   ]
  },
  {
   "cell_type": "code",
   "execution_count": 78,
   "metadata": {},
   "outputs": [
    {
     "data": {
      "text/html": [
       "<div>\n",
       "<style scoped>\n",
       "    .dataframe tbody tr th:only-of-type {\n",
       "        vertical-align: middle;\n",
       "    }\n",
       "\n",
       "    .dataframe tbody tr th {\n",
       "        vertical-align: top;\n",
       "    }\n",
       "\n",
       "    .dataframe thead th {\n",
       "        text-align: right;\n",
       "    }\n",
       "</style>\n",
       "<table border=\"1\" class=\"dataframe\">\n",
       "  <thead>\n",
       "    <tr style=\"text-align: right;\">\n",
       "      <th></th>\n",
       "      <th>batch</th>\n",
       "      <th>lastSemesterGradePoint</th>\n",
       "      <th>questionsAskedInTheClassroom</th>\n",
       "      <th>goThroughCourseMaterial</th>\n",
       "      <th>meetWithAcademicAdviser</th>\n",
       "      <th>groupStudyHours</th>\n",
       "      <th>studentAbsenceDays</th>\n",
       "      <th>gender_F</th>\n",
       "      <th>gender_M</th>\n",
       "      <th>nationality_Bangladesh</th>\n",
       "      <th>...</th>\n",
       "      <th>questionsAskInTheClassroom_M</th>\n",
       "      <th>goThroughCourseMaterials_H</th>\n",
       "      <th>goThroughCourseMaterials_L</th>\n",
       "      <th>goThroughCourseMaterials_M</th>\n",
       "      <th>parentsSatisfaction_No</th>\n",
       "      <th>parentsSatisfaction_Yes</th>\n",
       "      <th>parentsSatisfaction_Yes</th>\n",
       "      <th>educationStatusofParents_Above HSC</th>\n",
       "      <th>educationStatusofParents_HSC</th>\n",
       "      <th>educationStatusofParents_SSC</th>\n",
       "    </tr>\n",
       "  </thead>\n",
       "  <tbody>\n",
       "    <tr>\n",
       "      <th>0</th>\n",
       "      <td>16</td>\n",
       "      <td>3.66</td>\n",
       "      <td>10</td>\n",
       "      <td>24</td>\n",
       "      <td>3</td>\n",
       "      <td>10</td>\n",
       "      <td>5</td>\n",
       "      <td>0</td>\n",
       "      <td>1</td>\n",
       "      <td>1</td>\n",
       "      <td>...</td>\n",
       "      <td>1</td>\n",
       "      <td>0</td>\n",
       "      <td>1</td>\n",
       "      <td>0</td>\n",
       "      <td>0</td>\n",
       "      <td>1</td>\n",
       "      <td>0</td>\n",
       "      <td>1</td>\n",
       "      <td>0</td>\n",
       "      <td>0</td>\n",
       "    </tr>\n",
       "    <tr>\n",
       "      <th>1</th>\n",
       "      <td>17</td>\n",
       "      <td>2.25</td>\n",
       "      <td>8</td>\n",
       "      <td>118</td>\n",
       "      <td>4</td>\n",
       "      <td>30</td>\n",
       "      <td>19</td>\n",
       "      <td>0</td>\n",
       "      <td>1</td>\n",
       "      <td>1</td>\n",
       "      <td>...</td>\n",
       "      <td>1</td>\n",
       "      <td>0</td>\n",
       "      <td>0</td>\n",
       "      <td>1</td>\n",
       "      <td>0</td>\n",
       "      <td>1</td>\n",
       "      <td>0</td>\n",
       "      <td>1</td>\n",
       "      <td>0</td>\n",
       "      <td>0</td>\n",
       "    </tr>\n",
       "  </tbody>\n",
       "</table>\n",
       "<p>2 rows × 158 columns</p>\n",
       "</div>"
      ],
      "text/plain": [
       "   batch  lastSemesterGradePoint  questionsAskedInTheClassroom  \\\n",
       "0     16                    3.66                            10   \n",
       "1     17                    2.25                             8   \n",
       "\n",
       "   goThroughCourseMaterial  meetWithAcademicAdviser  groupStudyHours  \\\n",
       "0                       24                        3               10   \n",
       "1                      118                        4               30   \n",
       "\n",
       "   studentAbsenceDays  gender_F  gender_M  nationality_Bangladesh  ...  \\\n",
       "0                   5         0         1                       1  ...   \n",
       "1                  19         0         1                       1  ...   \n",
       "\n",
       "   questionsAskInTheClassroom_M  goThroughCourseMaterials_H  \\\n",
       "0                             1                           0   \n",
       "1                             1                           0   \n",
       "\n",
       "   goThroughCourseMaterials_L  goThroughCourseMaterials_M  \\\n",
       "0                           1                           0   \n",
       "1                           0                           1   \n",
       "\n",
       "   parentsSatisfaction_No  parentsSatisfaction_Yes  parentsSatisfaction_Yes   \\\n",
       "0                       0                        1                         0   \n",
       "1                       0                        1                         0   \n",
       "\n",
       "   educationStatusofParents_Above HSC  educationStatusofParents_HSC  \\\n",
       "0                                   1                             0   \n",
       "1                                   1                             0   \n",
       "\n",
       "   educationStatusofParents_SSC  \n",
       "0                             0  \n",
       "1                             0  \n",
       "\n",
       "[2 rows x 158 columns]"
      ]
     },
     "execution_count": 78,
     "metadata": {},
     "output_type": "execute_result"
    }
   ],
   "source": [
    "# Get dummies\n",
    "Without_class_data_frame = pd.get_dummies(Without_class_data_frame)\n",
    "\n",
    "# data_frame head\n",
    "Without_class_data_frame.head(2)"
   ]
  },
  {
   "cell_type": "markdown",
   "metadata": {},
   "source": [
    "# Label Encoding"
   ]
  },
  {
   "cell_type": "code",
   "execution_count": 79,
   "metadata": {},
   "outputs": [
    {
     "data": {
      "text/html": [
       "<div>\n",
       "<style scoped>\n",
       "    .dataframe tbody tr th:only-of-type {\n",
       "        vertical-align: middle;\n",
       "    }\n",
       "\n",
       "    .dataframe tbody tr th {\n",
       "        vertical-align: top;\n",
       "    }\n",
       "\n",
       "    .dataframe thead th {\n",
       "        text-align: right;\n",
       "    }\n",
       "</style>\n",
       "<table border=\"1\" class=\"dataframe\">\n",
       "  <thead>\n",
       "    <tr style=\"text-align: right;\">\n",
       "      <th></th>\n",
       "      <th>placeOfBirth</th>\n",
       "      <th>Class</th>\n",
       "    </tr>\n",
       "  </thead>\n",
       "  <tbody>\n",
       "    <tr>\n",
       "      <th>0</th>\n",
       "      <td>Dhaka</td>\n",
       "      <td>M</td>\n",
       "    </tr>\n",
       "    <tr>\n",
       "      <th>1</th>\n",
       "      <td>Munshiganj</td>\n",
       "      <td>L</td>\n",
       "    </tr>\n",
       "    <tr>\n",
       "      <th>2</th>\n",
       "      <td>Cumilla</td>\n",
       "      <td>L</td>\n",
       "    </tr>\n",
       "  </tbody>\n",
       "</table>\n",
       "</div>"
      ],
      "text/plain": [
       "  placeOfBirth Class\n",
       "0        Dhaka     M\n",
       "1   Munshiganj     L\n",
       "2      Cumilla     L"
      ]
     },
     "execution_count": 79,
     "metadata": {},
     "output_type": "execute_result"
    }
   ],
   "source": [
    "\n",
    "Class_data_frame = data_frame.drop(columns=['gender','batch','nationality',\n",
    "                                            'department','semester',\n",
    "                                            'section','lastSemesterGradePoint',\n",
    "                                            'questionsAskInTheClassroom',\n",
    "                                            'questionsAskedInTheClassroom',\n",
    "                                            'goThroughCourseMaterials',\n",
    "                                            'goThroughCourseMaterial',\n",
    "                                            'meetWithAcademicAdviser',\n",
    "                                            'groupStudyHours',\n",
    "                                            'studentAbsenceDays',\n",
    "                                            'parentsSatisfaction','educationStatusofParents'])\n",
    "Class_data_frame.head(3)"
   ]
  },
  {
   "cell_type": "code",
   "execution_count": 80,
   "metadata": {},
   "outputs": [
    {
     "data": {
      "text/plain": [
       "array(['M', 'L', 'H'], dtype=object)"
      ]
     },
     "execution_count": 80,
     "metadata": {},
     "output_type": "execute_result"
    }
   ],
   "source": [
    "Class_data_frame['Class'].unique()"
   ]
  },
  {
   "cell_type": "code",
   "execution_count": 81,
   "metadata": {},
   "outputs": [
    {
     "data": {
      "text/plain": [
       "array([2, 1, 0])"
      ]
     },
     "execution_count": 81,
     "metadata": {},
     "output_type": "execute_result"
    }
   ],
   "source": [
    "# label_encoder object knows how to understand word labels. \n",
    "label_encoder = preprocessing.LabelEncoder() \n",
    "  \n",
    "\n",
    "# Encode labels in column 'Class'. \n",
    "Class_data_frame['Class']= label_encoder.fit_transform(Class_data_frame['Class']) \n",
    "  \n",
    "Class_data_frame['Class'].unique() \n"
   ]
  },
  {
   "cell_type": "code",
   "execution_count": 82,
   "metadata": {},
   "outputs": [
    {
     "data": {
      "text/html": [
       "<div>\n",
       "<style scoped>\n",
       "    .dataframe tbody tr th:only-of-type {\n",
       "        vertical-align: middle;\n",
       "    }\n",
       "\n",
       "    .dataframe tbody tr th {\n",
       "        vertical-align: top;\n",
       "    }\n",
       "\n",
       "    .dataframe thead th {\n",
       "        text-align: right;\n",
       "    }\n",
       "</style>\n",
       "<table border=\"1\" class=\"dataframe\">\n",
       "  <thead>\n",
       "    <tr style=\"text-align: right;\">\n",
       "      <th></th>\n",
       "      <th>Class</th>\n",
       "    </tr>\n",
       "  </thead>\n",
       "  <tbody>\n",
       "    <tr>\n",
       "      <th>0</th>\n",
       "      <td>2</td>\n",
       "    </tr>\n",
       "    <tr>\n",
       "      <th>1</th>\n",
       "      <td>1</td>\n",
       "    </tr>\n",
       "    <tr>\n",
       "      <th>2</th>\n",
       "      <td>1</td>\n",
       "    </tr>\n",
       "  </tbody>\n",
       "</table>\n",
       "</div>"
      ],
      "text/plain": [
       "   Class\n",
       "0      2\n",
       "1      1\n",
       "2      1"
      ]
     },
     "execution_count": 82,
     "metadata": {},
     "output_type": "execute_result"
    }
   ],
   "source": [
    "Class_data_frame = pd.DataFrame(Class_data_frame['Class'])\n",
    "Class_data_frame.head(3)"
   ]
  },
  {
   "cell_type": "code",
   "execution_count": 83,
   "metadata": {},
   "outputs": [
    {
     "data": {
      "text/html": [
       "<div>\n",
       "<style scoped>\n",
       "    .dataframe tbody tr th:only-of-type {\n",
       "        vertical-align: middle;\n",
       "    }\n",
       "\n",
       "    .dataframe tbody tr th {\n",
       "        vertical-align: top;\n",
       "    }\n",
       "\n",
       "    .dataframe thead th {\n",
       "        text-align: right;\n",
       "    }\n",
       "</style>\n",
       "<table border=\"1\" class=\"dataframe\">\n",
       "  <thead>\n",
       "    <tr style=\"text-align: right;\">\n",
       "      <th></th>\n",
       "      <th>batch</th>\n",
       "      <th>lastSemesterGradePoint</th>\n",
       "      <th>questionsAskedInTheClassroom</th>\n",
       "      <th>goThroughCourseMaterial</th>\n",
       "      <th>meetWithAcademicAdviser</th>\n",
       "      <th>groupStudyHours</th>\n",
       "      <th>studentAbsenceDays</th>\n",
       "      <th>gender_F</th>\n",
       "      <th>gender_M</th>\n",
       "      <th>nationality_Bangladesh</th>\n",
       "      <th>...</th>\n",
       "      <th>goThroughCourseMaterials_H</th>\n",
       "      <th>goThroughCourseMaterials_L</th>\n",
       "      <th>goThroughCourseMaterials_M</th>\n",
       "      <th>parentsSatisfaction_No</th>\n",
       "      <th>parentsSatisfaction_Yes</th>\n",
       "      <th>parentsSatisfaction_Yes</th>\n",
       "      <th>educationStatusofParents_Above HSC</th>\n",
       "      <th>educationStatusofParents_HSC</th>\n",
       "      <th>educationStatusofParents_SSC</th>\n",
       "      <th>Class</th>\n",
       "    </tr>\n",
       "  </thead>\n",
       "  <tbody>\n",
       "    <tr>\n",
       "      <th>0</th>\n",
       "      <td>16</td>\n",
       "      <td>3.66</td>\n",
       "      <td>10</td>\n",
       "      <td>24</td>\n",
       "      <td>3</td>\n",
       "      <td>10</td>\n",
       "      <td>5</td>\n",
       "      <td>0</td>\n",
       "      <td>1</td>\n",
       "      <td>1</td>\n",
       "      <td>...</td>\n",
       "      <td>0</td>\n",
       "      <td>1</td>\n",
       "      <td>0</td>\n",
       "      <td>0</td>\n",
       "      <td>1</td>\n",
       "      <td>0</td>\n",
       "      <td>1</td>\n",
       "      <td>0</td>\n",
       "      <td>0</td>\n",
       "      <td>2</td>\n",
       "    </tr>\n",
       "    <tr>\n",
       "      <th>1</th>\n",
       "      <td>17</td>\n",
       "      <td>2.25</td>\n",
       "      <td>8</td>\n",
       "      <td>118</td>\n",
       "      <td>4</td>\n",
       "      <td>30</td>\n",
       "      <td>19</td>\n",
       "      <td>0</td>\n",
       "      <td>1</td>\n",
       "      <td>1</td>\n",
       "      <td>...</td>\n",
       "      <td>0</td>\n",
       "      <td>0</td>\n",
       "      <td>1</td>\n",
       "      <td>0</td>\n",
       "      <td>1</td>\n",
       "      <td>0</td>\n",
       "      <td>1</td>\n",
       "      <td>0</td>\n",
       "      <td>0</td>\n",
       "      <td>1</td>\n",
       "    </tr>\n",
       "    <tr>\n",
       "      <th>2</th>\n",
       "      <td>17</td>\n",
       "      <td>3.25</td>\n",
       "      <td>5</td>\n",
       "      <td>12</td>\n",
       "      <td>2</td>\n",
       "      <td>4</td>\n",
       "      <td>2</td>\n",
       "      <td>0</td>\n",
       "      <td>1</td>\n",
       "      <td>1</td>\n",
       "      <td>...</td>\n",
       "      <td>0</td>\n",
       "      <td>0</td>\n",
       "      <td>1</td>\n",
       "      <td>0</td>\n",
       "      <td>1</td>\n",
       "      <td>0</td>\n",
       "      <td>0</td>\n",
       "      <td>1</td>\n",
       "      <td>0</td>\n",
       "      <td>1</td>\n",
       "    </tr>\n",
       "    <tr>\n",
       "      <th>3</th>\n",
       "      <td>18</td>\n",
       "      <td>3.50</td>\n",
       "      <td>2</td>\n",
       "      <td>11</td>\n",
       "      <td>2</td>\n",
       "      <td>3</td>\n",
       "      <td>7</td>\n",
       "      <td>1</td>\n",
       "      <td>0</td>\n",
       "      <td>1</td>\n",
       "      <td>...</td>\n",
       "      <td>0</td>\n",
       "      <td>0</td>\n",
       "      <td>1</td>\n",
       "      <td>1</td>\n",
       "      <td>0</td>\n",
       "      <td>0</td>\n",
       "      <td>1</td>\n",
       "      <td>0</td>\n",
       "      <td>0</td>\n",
       "      <td>1</td>\n",
       "    </tr>\n",
       "  </tbody>\n",
       "</table>\n",
       "<p>4 rows × 159 columns</p>\n",
       "</div>"
      ],
      "text/plain": [
       "   batch  lastSemesterGradePoint  questionsAskedInTheClassroom  \\\n",
       "0     16                    3.66                            10   \n",
       "1     17                    2.25                             8   \n",
       "2     17                    3.25                             5   \n",
       "3     18                    3.50                             2   \n",
       "\n",
       "   goThroughCourseMaterial  meetWithAcademicAdviser  groupStudyHours  \\\n",
       "0                       24                        3               10   \n",
       "1                      118                        4               30   \n",
       "2                       12                        2                4   \n",
       "3                       11                        2                3   \n",
       "\n",
       "   studentAbsenceDays  gender_F  gender_M  nationality_Bangladesh  ...  \\\n",
       "0                   5         0         1                       1  ...   \n",
       "1                  19         0         1                       1  ...   \n",
       "2                   2         0         1                       1  ...   \n",
       "3                   7         1         0                       1  ...   \n",
       "\n",
       "   goThroughCourseMaterials_H  goThroughCourseMaterials_L  \\\n",
       "0                           0                           1   \n",
       "1                           0                           0   \n",
       "2                           0                           0   \n",
       "3                           0                           0   \n",
       "\n",
       "   goThroughCourseMaterials_M  parentsSatisfaction_No  \\\n",
       "0                           0                       0   \n",
       "1                           1                       0   \n",
       "2                           1                       0   \n",
       "3                           1                       1   \n",
       "\n",
       "   parentsSatisfaction_Yes  parentsSatisfaction_Yes   \\\n",
       "0                        1                         0   \n",
       "1                        1                         0   \n",
       "2                        1                         0   \n",
       "3                        0                         0   \n",
       "\n",
       "   educationStatusofParents_Above HSC  educationStatusofParents_HSC  \\\n",
       "0                                   1                             0   \n",
       "1                                   1                             0   \n",
       "2                                   0                             1   \n",
       "3                                   1                             0   \n",
       "\n",
       "   educationStatusofParents_SSC  Class  \n",
       "0                             0      2  \n",
       "1                             0      1  \n",
       "2                             0      1  \n",
       "3                             0      1  \n",
       "\n",
       "[4 rows x 159 columns]"
      ]
     },
     "execution_count": 83,
     "metadata": {},
     "output_type": "execute_result"
    }
   ],
   "source": [
    "\n",
    "final_data_frame = pd.concat([Without_class_data_frame, Class_data_frame], axis = 1)\n",
    "final_data_frame.head(4)"
   ]
  },
  {
   "cell_type": "markdown",
   "metadata": {},
   "source": [
    "# Co-relation Check"
   ]
  },
  {
   "cell_type": "code",
   "execution_count": 84,
   "metadata": {},
   "outputs": [
    {
     "data": {
      "text/html": [
       "<div>\n",
       "<style scoped>\n",
       "    .dataframe tbody tr th:only-of-type {\n",
       "        vertical-align: middle;\n",
       "    }\n",
       "\n",
       "    .dataframe tbody tr th {\n",
       "        vertical-align: top;\n",
       "    }\n",
       "\n",
       "    .dataframe thead th {\n",
       "        text-align: right;\n",
       "    }\n",
       "</style>\n",
       "<table border=\"1\" class=\"dataframe\">\n",
       "  <thead>\n",
       "    <tr style=\"text-align: right;\">\n",
       "      <th></th>\n",
       "      <th>batch</th>\n",
       "      <th>lastSemesterGradePoint</th>\n",
       "      <th>questionsAskedInTheClassroom</th>\n",
       "      <th>goThroughCourseMaterial</th>\n",
       "      <th>meetWithAcademicAdviser</th>\n",
       "      <th>groupStudyHours</th>\n",
       "      <th>studentAbsenceDays</th>\n",
       "      <th>gender_F</th>\n",
       "      <th>gender_M</th>\n",
       "      <th>nationality_Bangladesh</th>\n",
       "      <th>...</th>\n",
       "      <th>goThroughCourseMaterials_H</th>\n",
       "      <th>goThroughCourseMaterials_L</th>\n",
       "      <th>goThroughCourseMaterials_M</th>\n",
       "      <th>parentsSatisfaction_No</th>\n",
       "      <th>parentsSatisfaction_Yes</th>\n",
       "      <th>parentsSatisfaction_Yes</th>\n",
       "      <th>educationStatusofParents_Above HSC</th>\n",
       "      <th>educationStatusofParents_HSC</th>\n",
       "      <th>educationStatusofParents_SSC</th>\n",
       "      <th>Class</th>\n",
       "    </tr>\n",
       "  </thead>\n",
       "  <tbody>\n",
       "    <tr>\n",
       "      <th>batch</th>\n",
       "      <td>1.000000</td>\n",
       "      <td>0.054141</td>\n",
       "      <td>0.092020</td>\n",
       "      <td>0.052573</td>\n",
       "      <td>-0.106342</td>\n",
       "      <td>0.013168</td>\n",
       "      <td>-0.144744</td>\n",
       "      <td>-0.023370</td>\n",
       "      <td>0.023370</td>\n",
       "      <td>0.169137</td>\n",
       "      <td>...</td>\n",
       "      <td>-0.048073</td>\n",
       "      <td>-0.006264</td>\n",
       "      <td>0.041619</td>\n",
       "      <td>0.037203</td>\n",
       "      <td>-0.033395</td>\n",
       "      <td>-0.014521</td>\n",
       "      <td>-0.019456</td>\n",
       "      <td>-0.025609</td>\n",
       "      <td>0.056574</td>\n",
       "      <td>0.007670</td>\n",
       "    </tr>\n",
       "    <tr>\n",
       "      <th>lastSemesterGradePoint</th>\n",
       "      <td>0.054141</td>\n",
       "      <td>1.000000</td>\n",
       "      <td>0.151437</td>\n",
       "      <td>0.072438</td>\n",
       "      <td>0.000417</td>\n",
       "      <td>0.001058</td>\n",
       "      <td>-0.031197</td>\n",
       "      <td>-0.017614</td>\n",
       "      <td>0.017614</td>\n",
       "      <td>-0.001175</td>\n",
       "      <td>...</td>\n",
       "      <td>0.173663</td>\n",
       "      <td>-0.060540</td>\n",
       "      <td>-0.088292</td>\n",
       "      <td>-0.047669</td>\n",
       "      <td>0.044179</td>\n",
       "      <td>0.012495</td>\n",
       "      <td>0.042449</td>\n",
       "      <td>-0.068720</td>\n",
       "      <td>0.021865</td>\n",
       "      <td>-0.056371</td>\n",
       "    </tr>\n",
       "    <tr>\n",
       "      <th>questionsAskedInTheClassroom</th>\n",
       "      <td>0.092020</td>\n",
       "      <td>0.151437</td>\n",
       "      <td>1.000000</td>\n",
       "      <td>0.256593</td>\n",
       "      <td>0.113385</td>\n",
       "      <td>0.133798</td>\n",
       "      <td>-0.019366</td>\n",
       "      <td>-0.118999</td>\n",
       "      <td>0.118999</td>\n",
       "      <td>0.071379</td>\n",
       "      <td>...</td>\n",
       "      <td>0.109463</td>\n",
       "      <td>-0.143077</td>\n",
       "      <td>0.022630</td>\n",
       "      <td>-0.048155</td>\n",
       "      <td>0.033125</td>\n",
       "      <td>0.063243</td>\n",
       "      <td>0.033457</td>\n",
       "      <td>-0.068904</td>\n",
       "      <td>0.034425</td>\n",
       "      <td>-0.121195</td>\n",
       "    </tr>\n",
       "    <tr>\n",
       "      <th>goThroughCourseMaterial</th>\n",
       "      <td>0.052573</td>\n",
       "      <td>0.072438</td>\n",
       "      <td>0.256593</td>\n",
       "      <td>1.000000</td>\n",
       "      <td>0.085755</td>\n",
       "      <td>0.497176</td>\n",
       "      <td>0.022326</td>\n",
       "      <td>-0.091188</td>\n",
       "      <td>0.091188</td>\n",
       "      <td>0.052621</td>\n",
       "      <td>...</td>\n",
       "      <td>0.198691</td>\n",
       "      <td>-0.149327</td>\n",
       "      <td>-0.041279</td>\n",
       "      <td>-0.143110</td>\n",
       "      <td>0.150481</td>\n",
       "      <td>-0.041016</td>\n",
       "      <td>-0.021281</td>\n",
       "      <td>-0.044878</td>\n",
       "      <td>0.081551</td>\n",
       "      <td>-0.333386</td>\n",
       "    </tr>\n",
       "    <tr>\n",
       "      <th>meetWithAcademicAdviser</th>\n",
       "      <td>-0.106342</td>\n",
       "      <td>0.000417</td>\n",
       "      <td>0.113385</td>\n",
       "      <td>0.085755</td>\n",
       "      <td>1.000000</td>\n",
       "      <td>0.146560</td>\n",
       "      <td>0.044956</td>\n",
       "      <td>0.033776</td>\n",
       "      <td>-0.033776</td>\n",
       "      <td>-0.063530</td>\n",
       "      <td>...</td>\n",
       "      <td>0.063355</td>\n",
       "      <td>-0.077161</td>\n",
       "      <td>0.008883</td>\n",
       "      <td>-0.080952</td>\n",
       "      <td>0.074763</td>\n",
       "      <td>0.022373</td>\n",
       "      <td>-0.043028</td>\n",
       "      <td>0.045056</td>\n",
       "      <td>0.006527</td>\n",
       "      <td>-0.011692</td>\n",
       "    </tr>\n",
       "    <tr>\n",
       "      <th>...</th>\n",
       "      <td>...</td>\n",
       "      <td>...</td>\n",
       "      <td>...</td>\n",
       "      <td>...</td>\n",
       "      <td>...</td>\n",
       "      <td>...</td>\n",
       "      <td>...</td>\n",
       "      <td>...</td>\n",
       "      <td>...</td>\n",
       "      <td>...</td>\n",
       "      <td>...</td>\n",
       "      <td>...</td>\n",
       "      <td>...</td>\n",
       "      <td>...</td>\n",
       "      <td>...</td>\n",
       "      <td>...</td>\n",
       "      <td>...</td>\n",
       "      <td>...</td>\n",
       "      <td>...</td>\n",
       "      <td>...</td>\n",
       "      <td>...</td>\n",
       "    </tr>\n",
       "    <tr>\n",
       "      <th>parentsSatisfaction_Yes</th>\n",
       "      <td>-0.014521</td>\n",
       "      <td>0.012495</td>\n",
       "      <td>0.063243</td>\n",
       "      <td>-0.041016</td>\n",
       "      <td>0.022373</td>\n",
       "      <td>-0.057690</td>\n",
       "      <td>0.032785</td>\n",
       "      <td>-0.018347</td>\n",
       "      <td>0.018347</td>\n",
       "      <td>-0.105306</td>\n",
       "      <td>...</td>\n",
       "      <td>0.025189</td>\n",
       "      <td>-0.034715</td>\n",
       "      <td>0.006544</td>\n",
       "      <td>-0.054797</td>\n",
       "      <td>-0.173226</td>\n",
       "      <td>1.000000</td>\n",
       "      <td>-0.011718</td>\n",
       "      <td>0.047809</td>\n",
       "      <td>-0.039667</td>\n",
       "      <td>-0.063690</td>\n",
       "    </tr>\n",
       "    <tr>\n",
       "      <th>educationStatusofParents_Above HSC</th>\n",
       "      <td>-0.019456</td>\n",
       "      <td>0.042449</td>\n",
       "      <td>0.033457</td>\n",
       "      <td>-0.021281</td>\n",
       "      <td>-0.043028</td>\n",
       "      <td>-0.044659</td>\n",
       "      <td>0.035259</td>\n",
       "      <td>0.013646</td>\n",
       "      <td>-0.013646</td>\n",
       "      <td>0.105010</td>\n",
       "      <td>...</td>\n",
       "      <td>-0.038321</td>\n",
       "      <td>-0.044335</td>\n",
       "      <td>0.062530</td>\n",
       "      <td>0.018420</td>\n",
       "      <td>-0.015505</td>\n",
       "      <td>-0.011718</td>\n",
       "      <td>1.000000</td>\n",
       "      <td>-0.701025</td>\n",
       "      <td>-0.555301</td>\n",
       "      <td>-0.018518</td>\n",
       "    </tr>\n",
       "    <tr>\n",
       "      <th>educationStatusofParents_HSC</th>\n",
       "      <td>-0.025609</td>\n",
       "      <td>-0.068720</td>\n",
       "      <td>-0.068904</td>\n",
       "      <td>-0.044878</td>\n",
       "      <td>0.045056</td>\n",
       "      <td>-0.040046</td>\n",
       "      <td>0.003073</td>\n",
       "      <td>0.062824</td>\n",
       "      <td>-0.062824</td>\n",
       "      <td>-0.092514</td>\n",
       "      <td>...</td>\n",
       "      <td>0.022527</td>\n",
       "      <td>0.096883</td>\n",
       "      <td>-0.089600</td>\n",
       "      <td>0.045501</td>\n",
       "      <td>-0.055746</td>\n",
       "      <td>0.047809</td>\n",
       "      <td>-0.701025</td>\n",
       "      <td>1.000000</td>\n",
       "      <td>-0.203800</td>\n",
       "      <td>0.021156</td>\n",
       "    </tr>\n",
       "    <tr>\n",
       "      <th>educationStatusofParents_SSC</th>\n",
       "      <td>0.056574</td>\n",
       "      <td>0.021865</td>\n",
       "      <td>0.034425</td>\n",
       "      <td>0.081551</td>\n",
       "      <td>0.006527</td>\n",
       "      <td>0.108010</td>\n",
       "      <td>-0.051989</td>\n",
       "      <td>-0.091999</td>\n",
       "      <td>0.091999</td>\n",
       "      <td>-0.036273</td>\n",
       "      <td>...</td>\n",
       "      <td>0.026337</td>\n",
       "      <td>-0.052120</td>\n",
       "      <td>0.018648</td>\n",
       "      <td>-0.078349</td>\n",
       "      <td>0.086296</td>\n",
       "      <td>-0.039667</td>\n",
       "      <td>-0.555301</td>\n",
       "      <td>-0.203800</td>\n",
       "      <td>1.000000</td>\n",
       "      <td>0.000751</td>\n",
       "    </tr>\n",
       "    <tr>\n",
       "      <th>Class</th>\n",
       "      <td>0.007670</td>\n",
       "      <td>-0.056371</td>\n",
       "      <td>-0.121195</td>\n",
       "      <td>-0.333386</td>\n",
       "      <td>-0.011692</td>\n",
       "      <td>-0.146188</td>\n",
       "      <td>-0.064612</td>\n",
       "      <td>0.044227</td>\n",
       "      <td>-0.044227</td>\n",
       "      <td>-0.005385</td>\n",
       "      <td>...</td>\n",
       "      <td>-0.108723</td>\n",
       "      <td>0.008903</td>\n",
       "      <td>0.076912</td>\n",
       "      <td>0.107675</td>\n",
       "      <td>-0.091732</td>\n",
       "      <td>-0.063690</td>\n",
       "      <td>-0.018518</td>\n",
       "      <td>0.021156</td>\n",
       "      <td>0.000751</td>\n",
       "      <td>1.000000</td>\n",
       "    </tr>\n",
       "  </tbody>\n",
       "</table>\n",
       "<p>159 rows × 159 columns</p>\n",
       "</div>"
      ],
      "text/plain": [
       "                                       batch  lastSemesterGradePoint  \\\n",
       "batch                               1.000000                0.054141   \n",
       "lastSemesterGradePoint              0.054141                1.000000   \n",
       "questionsAskedInTheClassroom        0.092020                0.151437   \n",
       "goThroughCourseMaterial             0.052573                0.072438   \n",
       "meetWithAcademicAdviser            -0.106342                0.000417   \n",
       "...                                      ...                     ...   \n",
       "parentsSatisfaction_Yes            -0.014521                0.012495   \n",
       "educationStatusofParents_Above HSC -0.019456                0.042449   \n",
       "educationStatusofParents_HSC       -0.025609               -0.068720   \n",
       "educationStatusofParents_SSC        0.056574                0.021865   \n",
       "Class                               0.007670               -0.056371   \n",
       "\n",
       "                                    questionsAskedInTheClassroom  \\\n",
       "batch                                                   0.092020   \n",
       "lastSemesterGradePoint                                  0.151437   \n",
       "questionsAskedInTheClassroom                            1.000000   \n",
       "goThroughCourseMaterial                                 0.256593   \n",
       "meetWithAcademicAdviser                                 0.113385   \n",
       "...                                                          ...   \n",
       "parentsSatisfaction_Yes                                 0.063243   \n",
       "educationStatusofParents_Above HSC                      0.033457   \n",
       "educationStatusofParents_HSC                           -0.068904   \n",
       "educationStatusofParents_SSC                            0.034425   \n",
       "Class                                                  -0.121195   \n",
       "\n",
       "                                    goThroughCourseMaterial  \\\n",
       "batch                                              0.052573   \n",
       "lastSemesterGradePoint                             0.072438   \n",
       "questionsAskedInTheClassroom                       0.256593   \n",
       "goThroughCourseMaterial                            1.000000   \n",
       "meetWithAcademicAdviser                            0.085755   \n",
       "...                                                     ...   \n",
       "parentsSatisfaction_Yes                           -0.041016   \n",
       "educationStatusofParents_Above HSC                -0.021281   \n",
       "educationStatusofParents_HSC                      -0.044878   \n",
       "educationStatusofParents_SSC                       0.081551   \n",
       "Class                                             -0.333386   \n",
       "\n",
       "                                    meetWithAcademicAdviser  groupStudyHours  \\\n",
       "batch                                             -0.106342         0.013168   \n",
       "lastSemesterGradePoint                             0.000417         0.001058   \n",
       "questionsAskedInTheClassroom                       0.113385         0.133798   \n",
       "goThroughCourseMaterial                            0.085755         0.497176   \n",
       "meetWithAcademicAdviser                            1.000000         0.146560   \n",
       "...                                                     ...              ...   \n",
       "parentsSatisfaction_Yes                            0.022373        -0.057690   \n",
       "educationStatusofParents_Above HSC                -0.043028        -0.044659   \n",
       "educationStatusofParents_HSC                       0.045056        -0.040046   \n",
       "educationStatusofParents_SSC                       0.006527         0.108010   \n",
       "Class                                             -0.011692        -0.146188   \n",
       "\n",
       "                                    studentAbsenceDays  gender_F  gender_M  \\\n",
       "batch                                        -0.144744 -0.023370  0.023370   \n",
       "lastSemesterGradePoint                       -0.031197 -0.017614  0.017614   \n",
       "questionsAskedInTheClassroom                 -0.019366 -0.118999  0.118999   \n",
       "goThroughCourseMaterial                       0.022326 -0.091188  0.091188   \n",
       "meetWithAcademicAdviser                       0.044956  0.033776 -0.033776   \n",
       "...                                                ...       ...       ...   \n",
       "parentsSatisfaction_Yes                       0.032785 -0.018347  0.018347   \n",
       "educationStatusofParents_Above HSC            0.035259  0.013646 -0.013646   \n",
       "educationStatusofParents_HSC                  0.003073  0.062824 -0.062824   \n",
       "educationStatusofParents_SSC                 -0.051989 -0.091999  0.091999   \n",
       "Class                                        -0.064612  0.044227 -0.044227   \n",
       "\n",
       "                                    nationality_Bangladesh  ...  \\\n",
       "batch                                             0.169137  ...   \n",
       "lastSemesterGradePoint                           -0.001175  ...   \n",
       "questionsAskedInTheClassroom                      0.071379  ...   \n",
       "goThroughCourseMaterial                           0.052621  ...   \n",
       "meetWithAcademicAdviser                          -0.063530  ...   \n",
       "...                                                    ...  ...   \n",
       "parentsSatisfaction_Yes                          -0.105306  ...   \n",
       "educationStatusofParents_Above HSC                0.105010  ...   \n",
       "educationStatusofParents_HSC                     -0.092514  ...   \n",
       "educationStatusofParents_SSC                     -0.036273  ...   \n",
       "Class                                            -0.005385  ...   \n",
       "\n",
       "                                    goThroughCourseMaterials_H  \\\n",
       "batch                                                -0.048073   \n",
       "lastSemesterGradePoint                                0.173663   \n",
       "questionsAskedInTheClassroom                          0.109463   \n",
       "goThroughCourseMaterial                               0.198691   \n",
       "meetWithAcademicAdviser                               0.063355   \n",
       "...                                                        ...   \n",
       "parentsSatisfaction_Yes                               0.025189   \n",
       "educationStatusofParents_Above HSC                   -0.038321   \n",
       "educationStatusofParents_HSC                          0.022527   \n",
       "educationStatusofParents_SSC                          0.026337   \n",
       "Class                                                -0.108723   \n",
       "\n",
       "                                    goThroughCourseMaterials_L  \\\n",
       "batch                                                -0.006264   \n",
       "lastSemesterGradePoint                               -0.060540   \n",
       "questionsAskedInTheClassroom                         -0.143077   \n",
       "goThroughCourseMaterial                              -0.149327   \n",
       "meetWithAcademicAdviser                              -0.077161   \n",
       "...                                                        ...   \n",
       "parentsSatisfaction_Yes                              -0.034715   \n",
       "educationStatusofParents_Above HSC                   -0.044335   \n",
       "educationStatusofParents_HSC                          0.096883   \n",
       "educationStatusofParents_SSC                         -0.052120   \n",
       "Class                                                 0.008903   \n",
       "\n",
       "                                    goThroughCourseMaterials_M  \\\n",
       "batch                                                 0.041619   \n",
       "lastSemesterGradePoint                               -0.088292   \n",
       "questionsAskedInTheClassroom                          0.022630   \n",
       "goThroughCourseMaterial                              -0.041279   \n",
       "meetWithAcademicAdviser                               0.008883   \n",
       "...                                                        ...   \n",
       "parentsSatisfaction_Yes                               0.006544   \n",
       "educationStatusofParents_Above HSC                    0.062530   \n",
       "educationStatusofParents_HSC                         -0.089600   \n",
       "educationStatusofParents_SSC                          0.018648   \n",
       "Class                                                 0.076912   \n",
       "\n",
       "                                    parentsSatisfaction_No  \\\n",
       "batch                                             0.037203   \n",
       "lastSemesterGradePoint                           -0.047669   \n",
       "questionsAskedInTheClassroom                     -0.048155   \n",
       "goThroughCourseMaterial                          -0.143110   \n",
       "meetWithAcademicAdviser                          -0.080952   \n",
       "...                                                    ...   \n",
       "parentsSatisfaction_Yes                          -0.054797   \n",
       "educationStatusofParents_Above HSC                0.018420   \n",
       "educationStatusofParents_HSC                      0.045501   \n",
       "educationStatusofParents_SSC                     -0.078349   \n",
       "Class                                             0.107675   \n",
       "\n",
       "                                    parentsSatisfaction_Yes  \\\n",
       "batch                                             -0.033395   \n",
       "lastSemesterGradePoint                             0.044179   \n",
       "questionsAskedInTheClassroom                       0.033125   \n",
       "goThroughCourseMaterial                            0.150481   \n",
       "meetWithAcademicAdviser                            0.074763   \n",
       "...                                                     ...   \n",
       "parentsSatisfaction_Yes                           -0.173226   \n",
       "educationStatusofParents_Above HSC                -0.015505   \n",
       "educationStatusofParents_HSC                      -0.055746   \n",
       "educationStatusofParents_SSC                       0.086296   \n",
       "Class                                             -0.091732   \n",
       "\n",
       "                                    parentsSatisfaction_Yes   \\\n",
       "batch                                              -0.014521   \n",
       "lastSemesterGradePoint                              0.012495   \n",
       "questionsAskedInTheClassroom                        0.063243   \n",
       "goThroughCourseMaterial                            -0.041016   \n",
       "meetWithAcademicAdviser                             0.022373   \n",
       "...                                                      ...   \n",
       "parentsSatisfaction_Yes                             1.000000   \n",
       "educationStatusofParents_Above HSC                 -0.011718   \n",
       "educationStatusofParents_HSC                        0.047809   \n",
       "educationStatusofParents_SSC                       -0.039667   \n",
       "Class                                              -0.063690   \n",
       "\n",
       "                                    educationStatusofParents_Above HSC  \\\n",
       "batch                                                        -0.019456   \n",
       "lastSemesterGradePoint                                        0.042449   \n",
       "questionsAskedInTheClassroom                                  0.033457   \n",
       "goThroughCourseMaterial                                      -0.021281   \n",
       "meetWithAcademicAdviser                                      -0.043028   \n",
       "...                                                                ...   \n",
       "parentsSatisfaction_Yes                                      -0.011718   \n",
       "educationStatusofParents_Above HSC                            1.000000   \n",
       "educationStatusofParents_HSC                                 -0.701025   \n",
       "educationStatusofParents_SSC                                 -0.555301   \n",
       "Class                                                        -0.018518   \n",
       "\n",
       "                                    educationStatusofParents_HSC  \\\n",
       "batch                                                  -0.025609   \n",
       "lastSemesterGradePoint                                 -0.068720   \n",
       "questionsAskedInTheClassroom                           -0.068904   \n",
       "goThroughCourseMaterial                                -0.044878   \n",
       "meetWithAcademicAdviser                                 0.045056   \n",
       "...                                                          ...   \n",
       "parentsSatisfaction_Yes                                 0.047809   \n",
       "educationStatusofParents_Above HSC                     -0.701025   \n",
       "educationStatusofParents_HSC                            1.000000   \n",
       "educationStatusofParents_SSC                           -0.203800   \n",
       "Class                                                   0.021156   \n",
       "\n",
       "                                    educationStatusofParents_SSC     Class  \n",
       "batch                                                   0.056574  0.007670  \n",
       "lastSemesterGradePoint                                  0.021865 -0.056371  \n",
       "questionsAskedInTheClassroom                            0.034425 -0.121195  \n",
       "goThroughCourseMaterial                                 0.081551 -0.333386  \n",
       "meetWithAcademicAdviser                                 0.006527 -0.011692  \n",
       "...                                                          ...       ...  \n",
       "parentsSatisfaction_Yes                                -0.039667 -0.063690  \n",
       "educationStatusofParents_Above HSC                     -0.555301 -0.018518  \n",
       "educationStatusofParents_HSC                           -0.203800  0.021156  \n",
       "educationStatusofParents_SSC                            1.000000  0.000751  \n",
       "Class                                                   0.000751  1.000000  \n",
       "\n",
       "[159 rows x 159 columns]"
      ]
     },
     "execution_count": 84,
     "metadata": {},
     "output_type": "execute_result"
    }
   ],
   "source": [
    "final_data_frame.corr()"
   ]
  },
  {
   "cell_type": "markdown",
   "metadata": {},
   "source": [
    "# Chi2"
   ]
  },
  {
   "cell_type": "code",
   "execution_count": 85,
   "metadata": {},
   "outputs": [
    {
     "data": {
      "text/html": [
       "<div>\n",
       "<style scoped>\n",
       "    .dataframe tbody tr th:only-of-type {\n",
       "        vertical-align: middle;\n",
       "    }\n",
       "\n",
       "    .dataframe tbody tr th {\n",
       "        vertical-align: top;\n",
       "    }\n",
       "\n",
       "    .dataframe thead th {\n",
       "        text-align: right;\n",
       "    }\n",
       "</style>\n",
       "<table border=\"1\" class=\"dataframe\">\n",
       "  <thead>\n",
       "    <tr style=\"text-align: right;\">\n",
       "      <th></th>\n",
       "      <th>Class</th>\n",
       "      <th>Chi2 Weights</th>\n",
       "    </tr>\n",
       "  </thead>\n",
       "  <tbody>\n",
       "    <tr>\n",
       "      <th>3</th>\n",
       "      <td>goThroughCourseMaterial</td>\n",
       "      <td>3878.281675</td>\n",
       "    </tr>\n",
       "    <tr>\n",
       "      <th>6</th>\n",
       "      <td>studentAbsenceDays</td>\n",
       "      <td>685.388672</td>\n",
       "    </tr>\n",
       "    <tr>\n",
       "      <th>5</th>\n",
       "      <td>groupStudyHours</td>\n",
       "      <td>504.742333</td>\n",
       "    </tr>\n",
       "    <tr>\n",
       "      <th>2</th>\n",
       "      <td>questionsAskedInTheClassroom</td>\n",
       "      <td>468.010233</td>\n",
       "    </tr>\n",
       "    <tr>\n",
       "      <th>0</th>\n",
       "      <td>batch</td>\n",
       "      <td>67.140621</td>\n",
       "    </tr>\n",
       "    <tr>\n",
       "      <th>...</th>\n",
       "      <td>...</td>\n",
       "      <td>...</td>\n",
       "    </tr>\n",
       "    <tr>\n",
       "      <th>155</th>\n",
       "      <td>educationStatusofParents_Above HSC</td>\n",
       "      <td>0.092298</td>\n",
       "    </tr>\n",
       "    <tr>\n",
       "      <th>140</th>\n",
       "      <td>section_T</td>\n",
       "      <td>0.071091</td>\n",
       "    </tr>\n",
       "    <tr>\n",
       "      <th>84</th>\n",
       "      <td>placeOfBirth_Narayanganj</td>\n",
       "      <td>0.058718</td>\n",
       "    </tr>\n",
       "    <tr>\n",
       "      <th>9</th>\n",
       "      <td>nationality_Bangladesh</td>\n",
       "      <td>0.045347</td>\n",
       "    </tr>\n",
       "    <tr>\n",
       "      <th>158</th>\n",
       "      <td>Class</td>\n",
       "      <td>NaN</td>\n",
       "    </tr>\n",
       "  </tbody>\n",
       "</table>\n",
       "<p>159 rows × 2 columns</p>\n",
       "</div>"
      ],
      "text/plain": [
       "                                  Class  Chi2 Weights\n",
       "3               goThroughCourseMaterial   3878.281675\n",
       "6                    studentAbsenceDays    685.388672\n",
       "5                       groupStudyHours    504.742333\n",
       "2          questionsAskedInTheClassroom    468.010233\n",
       "0                                 batch     67.140621\n",
       "..                                  ...           ...\n",
       "155  educationStatusofParents_Above HSC      0.092298\n",
       "140                           section_T      0.071091\n",
       "84             placeOfBirth_Narayanganj      0.058718\n",
       "9                nationality_Bangladesh      0.045347\n",
       "158                               Class           NaN\n",
       "\n",
       "[159 rows x 2 columns]"
      ]
     },
     "metadata": {},
     "output_type": "display_data"
    },
    {
     "data": {
      "text/plain": [
       "(159, 2)"
      ]
     },
     "metadata": {},
     "output_type": "display_data"
    }
   ],
   "source": [
    "X = final_data_frame.iloc[:,:-1]\n",
    "y = final_data_frame.iloc[:,-1:]   \n",
    "\n",
    "dfcolumns =pd.DataFrame(final_data_frame.columns) \n",
    "#chi2\n",
    "bestfeatures = SelectKBest(score_func=sklearn_chi2, k='all')\n",
    "fit = bestfeatures.fit(X,y)\n",
    "dfscores = pd.DataFrame(fit.scores_)\n",
    "\n",
    "\n",
    "#concat two dataframes for better visualization \n",
    "featureScores = pd.concat([dfcolumns,dfscores],axis=1)\n",
    "featureScores.columns = ['Class','Chi2 Weights']\n",
    "# print(featureScores.nlargest(len(data_frame.columns),'Score'))\n",
    "\n",
    "# featureScores.plot(kind='bar', subplots=True, figsize=(20,20))\n",
    "featureScores = featureScores.sort_values(by=['Chi2 Weights'], ascending=False)\n",
    "display(featureScores)\n",
    "display(featureScores.shape)"
   ]
  },
  {
   "cell_type": "markdown",
   "metadata": {},
   "source": [
    "# Random Forest"
   ]
  },
  {
   "cell_type": "code",
   "execution_count": 86,
   "metadata": {},
   "outputs": [
    {
     "name": "stderr",
     "output_type": "stream",
     "text": [
      "<ipython-input-86-17f40633fcac>:3: DataConversionWarning: A column-vector y was passed when a 1d array was expected. Please change the shape of y to (n_samples,), for example using ravel().\n",
      "  rf.fit(X, y)\n"
     ]
    },
    {
     "data": {
      "text/html": [
       "<div>\n",
       "<style scoped>\n",
       "    .dataframe tbody tr th:only-of-type {\n",
       "        vertical-align: middle;\n",
       "    }\n",
       "\n",
       "    .dataframe tbody tr th {\n",
       "        vertical-align: top;\n",
       "    }\n",
       "\n",
       "    .dataframe thead th {\n",
       "        text-align: right;\n",
       "    }\n",
       "</style>\n",
       "<table border=\"1\" class=\"dataframe\">\n",
       "  <thead>\n",
       "    <tr style=\"text-align: right;\">\n",
       "      <th></th>\n",
       "      <th>Class</th>\n",
       "      <th>Chi2 Weights</th>\n",
       "      <th>Random Forest Importance</th>\n",
       "    </tr>\n",
       "  </thead>\n",
       "  <tbody>\n",
       "    <tr>\n",
       "      <th>0</th>\n",
       "      <td>batch</td>\n",
       "      <td>67.140621</td>\n",
       "      <td>0.036292</td>\n",
       "    </tr>\n",
       "    <tr>\n",
       "      <th>1</th>\n",
       "      <td>lastSemesterGradePoint</td>\n",
       "      <td>1.500461</td>\n",
       "      <td>0.032693</td>\n",
       "    </tr>\n",
       "    <tr>\n",
       "      <th>2</th>\n",
       "      <td>questionsAskedInTheClassroom</td>\n",
       "      <td>468.010233</td>\n",
       "      <td>0.081867</td>\n",
       "    </tr>\n",
       "    <tr>\n",
       "      <th>3</th>\n",
       "      <td>goThroughCourseMaterial</td>\n",
       "      <td>3878.281675</td>\n",
       "      <td>0.249486</td>\n",
       "    </tr>\n",
       "    <tr>\n",
       "      <th>4</th>\n",
       "      <td>meetWithAcademicAdviser</td>\n",
       "      <td>2.258680</td>\n",
       "      <td>0.023196</td>\n",
       "    </tr>\n",
       "    <tr>\n",
       "      <th>...</th>\n",
       "      <td>...</td>\n",
       "      <td>...</td>\n",
       "      <td>...</td>\n",
       "    </tr>\n",
       "    <tr>\n",
       "      <th>154</th>\n",
       "      <td>parentsSatisfaction_Yes</td>\n",
       "      <td>3.922267</td>\n",
       "      <td>0.009010</td>\n",
       "    </tr>\n",
       "    <tr>\n",
       "      <th>155</th>\n",
       "      <td>educationStatusofParents_Above HSC</td>\n",
       "      <td>0.092298</td>\n",
       "      <td>0.003551</td>\n",
       "    </tr>\n",
       "    <tr>\n",
       "      <th>156</th>\n",
       "      <td>educationStatusofParents_HSC</td>\n",
       "      <td>1.470672</td>\n",
       "      <td>0.004342</td>\n",
       "    </tr>\n",
       "    <tr>\n",
       "      <th>157</th>\n",
       "      <td>educationStatusofParents_SSC</td>\n",
       "      <td>3.098894</td>\n",
       "      <td>0.001577</td>\n",
       "    </tr>\n",
       "    <tr>\n",
       "      <th>158</th>\n",
       "      <td>Class</td>\n",
       "      <td>NaN</td>\n",
       "      <td>NaN</td>\n",
       "    </tr>\n",
       "  </tbody>\n",
       "</table>\n",
       "<p>159 rows × 3 columns</p>\n",
       "</div>"
      ],
      "text/plain": [
       "                                  Class  Chi2 Weights  \\\n",
       "0                                 batch     67.140621   \n",
       "1                lastSemesterGradePoint      1.500461   \n",
       "2          questionsAskedInTheClassroom    468.010233   \n",
       "3               goThroughCourseMaterial   3878.281675   \n",
       "4               meetWithAcademicAdviser      2.258680   \n",
       "..                                  ...           ...   \n",
       "154            parentsSatisfaction_Yes       3.922267   \n",
       "155  educationStatusofParents_Above HSC      0.092298   \n",
       "156        educationStatusofParents_HSC      1.470672   \n",
       "157        educationStatusofParents_SSC      3.098894   \n",
       "158                               Class           NaN   \n",
       "\n",
       "     Random Forest Importance  \n",
       "0                    0.036292  \n",
       "1                    0.032693  \n",
       "2                    0.081867  \n",
       "3                    0.249486  \n",
       "4                    0.023196  \n",
       "..                        ...  \n",
       "154                  0.009010  \n",
       "155                  0.003551  \n",
       "156                  0.004342  \n",
       "157                  0.001577  \n",
       "158                       NaN  \n",
       "\n",
       "[159 rows x 3 columns]"
      ]
     },
     "metadata": {},
     "output_type": "display_data"
    },
    {
     "data": {
      "text/plain": [
       "(159, 3)"
      ]
     },
     "metadata": {},
     "output_type": "display_data"
    }
   ],
   "source": [
    "# Random Forest\n",
    "rf = RandomForestRegressor()\n",
    "rf.fit(X, y)\n",
    "#print(\"Features sorted by their score:\")\n",
    "#featureScores2 = sorted(zip(map(lambda x: round(x, 4), rf.feature_importances_)), reverse=True)\n",
    "\n",
    "\n",
    "dfscoresOfRF = pd.DataFrame(rf.feature_importances_)\n",
    "dfscoresOfRF.columns = ['Random Forest Importance']\n",
    "dfscoresOfRF = dfscoresOfRF.sort_values(by='Random Forest Importance', ascending=False)\n",
    "\n",
    "\n",
    "\n",
    "#concat two dataframes for better visualization \n",
    "featureScores = pd.concat([featureScores, dfscoresOfRF],axis=1)\n",
    "\n",
    "#featureScores = featureScores.sort_Values(by='Score', ascending = False)\n",
    "display(featureScores)\n",
    "display(featureScores.shape)"
   ]
  },
  {
   "cell_type": "markdown",
   "metadata": {},
   "source": [
    "# Training, Test Data Preparing considering top 10 features"
   ]
  },
  {
   "cell_type": "code",
   "execution_count": 87,
   "metadata": {},
   "outputs": [],
   "source": [
    "feature_column_names = ['goThroughCourseMaterial','studentAbsenceDays','questionsAskedInTheClassroom','batch', 'groupStudyHours',\n",
    "                        'department_ESDM', 'placeOfBirth_Feni', 'nationality_Nigeria', 'placeOfBirth_Bosasosomalia', \n",
    "                        'questionsAskInTheClassroom_H']\n",
    "                        \n",
    "predicted_class_name = ['Class']\n",
    "\n",
    "# Getting feature variable values\n",
    "X = final_data_frame[feature_column_names].values\n",
    "y = final_data_frame[predicted_class_name].values\n",
    "\n",
    "# Saving 30% for testing\n",
    "split_test_size = 0.30\n",
    "\n",
    "# Splitting using scikit-learn train_test_split function\n",
    "X_train, X_test, y_train, y_test = train_test_split(X, y, test_size = split_test_size, random_state = 42)"
   ]
  },
  {
   "cell_type": "code",
   "execution_count": 88,
   "metadata": {},
   "outputs": [],
   "source": [
    "X_train = X_train.T\n",
    "y_train = y_train.T\n",
    "X_test = X_test.T\n",
    "y_test = y_test.T"
   ]
  },
  {
   "cell_type": "code",
   "execution_count": 89,
   "metadata": {},
   "outputs": [
    {
     "name": "stdout",
     "output_type": "stream",
     "text": [
      "1.93% in training set\n",
      "1.93% in test set\n"
     ]
    }
   ],
   "source": [
    "print(\"{0:0.2f}% in training set\".format((len(X_train)/len(data_frame.index)) * 100))\n",
    "print(\"{0:0.2f}% in test set\".format((len(X_test)/len(data_frame.index)) * 100))"
   ]
  },
  {
   "cell_type": "markdown",
   "metadata": {},
   "source": [
    "# Decision Tree"
   ]
  },
  {
   "cell_type": "code",
   "execution_count": 90,
   "metadata": {},
   "outputs": [],
   "source": [
    "accuracies = {}\n",
    "\n",
    "# Create Decision Tree classifer object\n",
    "clf = DecisionTreeClassifier()\n",
    "\n",
    "# Train Decision Tree Classifer\n",
    "clf = clf.fit(X_train.T,y_train.T)\n",
    "\n",
    "accu = clf.score(X_test.T,y_test.T)*100\n",
    "accuracies['Decision Tree'] = accu\n",
    "\n",
    "#Predict the response for test dataset\n",
    "x_pred = clf.predict(X_train.T)\n",
    "\n",
    "#Predict the response for test dataset\n",
    "y_pred = clf.predict(X_test.T)"
   ]
  },
  {
   "cell_type": "code",
   "execution_count": 91,
   "metadata": {},
   "outputs": [
    {
     "name": "stdout",
     "output_type": "stream",
     "text": [
      "Accuracy: 1.0\n"
     ]
    }
   ],
   "source": [
    "# Model Accuracy, how often is the classifier correct?\n",
    "print(\"Accuracy:\",metrics.accuracy_score(y_train.T, x_pred))"
   ]
  },
  {
   "cell_type": "markdown",
   "metadata": {},
   "source": [
    "# Performance on Testing data"
   ]
  },
  {
   "cell_type": "code",
   "execution_count": 92,
   "metadata": {},
   "outputs": [
    {
     "name": "stdout",
     "output_type": "stream",
     "text": [
      "Accuracy: 0.717948717948718\n"
     ]
    }
   ],
   "source": [
    "# Model Accuracy, how often is the classifier correct?\n",
    "print(\"Accuracy:\",metrics.accuracy_score(y_test.T, y_pred))"
   ]
  },
  {
   "cell_type": "markdown",
   "metadata": {},
   "source": [
    "# GaussianNB"
   ]
  },
  {
   "cell_type": "code",
   "execution_count": 93,
   "metadata": {},
   "outputs": [],
   "source": [
    "# create GaussianNBr model object and train it with the data\n",
    "from sklearn.naive_bayes import GaussianNB\n",
    "nb_model= GaussianNB()\n",
    "nb_model.fit(X_train.T, y_train.T.ravel())  # ravel() return 1-D array\n",
    "\n",
    "accu = nb_model.score(X_test.T,y_test.T)*100\n",
    "accuracies['Naive Bayes'] = accu"
   ]
  },
  {
   "cell_type": "code",
   "execution_count": 94,
   "metadata": {},
   "outputs": [
    {
     "name": "stdout",
     "output_type": "stream",
     "text": [
      "Accuracy of our GaussianNB model is : 0.5359\n"
     ]
    }
   ],
   "source": [
    "# performance metrics library\n",
    "from sklearn import metrics\n",
    "\n",
    "# get current accuracy of the model\n",
    "prediction_from_trained_data = nb_model.predict(X_train.T)\n",
    "\n",
    "accuracy = metrics.accuracy_score(y_train.T, prediction_from_trained_data)\n",
    "\n",
    "print (\"Accuracy of our GaussianNB model is : {0:.4f}\".format(accuracy))"
   ]
  },
  {
   "cell_type": "markdown",
   "metadata": {},
   "source": [
    "# Performance on Testing data"
   ]
  },
  {
   "cell_type": "code",
   "execution_count": 95,
   "metadata": {},
   "outputs": [
    {
     "name": "stdout",
     "output_type": "stream",
     "text": [
      "Accuracy of our GaussianNB model is: 0.5256\n"
     ]
    }
   ],
   "source": [
    "# this returns array of predicted results from test_data\n",
    "prediction_from_test_data = nb_model.predict(X_test.T)\n",
    "\n",
    "accuracy = metrics.accuracy_score(y_test.T, prediction_from_test_data)\n",
    "\n",
    "print (\"Accuracy of our GaussianNB model is: {0:0.4f}\".format(accuracy))"
   ]
  },
  {
   "cell_type": "code",
   "execution_count": 96,
   "metadata": {},
   "outputs": [
    {
     "name": "stdout",
     "output_type": "stream",
     "text": [
      "Accuracy of our GaussianNB model is: 0.5256 %\n",
      "Confusion Matrix\n",
      "[[62  7]\n",
      " [ 3 20]]\n",
      "Classification Report\n",
      "              precision    recall  f1-score   support\n",
      "\n",
      "           1       0.54      0.87      0.67        71\n",
      "           0       0.51      0.83      0.63        24\n",
      "\n",
      "   micro avg       0.54      0.86      0.66        95\n",
      "   macro avg       0.53      0.85      0.65        95\n",
      "weighted avg       0.54      0.86      0.66        95\n",
      "\n"
     ]
    }
   ],
   "source": [
    "print (\"Accuracy of our GaussianNB model is: {0:0.4f} %\".format(accuracy))\n",
    "\n",
    "print (\"Confusion Matrix\")\n",
    "print (\"{0}\".format(metrics.confusion_matrix(y_test.T, prediction_from_test_data, labels=[1, 0])))\n",
    "print (\"Classification Report\")\n",
    "# labels for set 1=True to upper left and 0 = False to lower right\n",
    "print (\"{0}\".format(metrics.classification_report(y_test.T, prediction_from_test_data, labels=[1, 0])))"
   ]
  },
  {
   "cell_type": "markdown",
   "metadata": {},
   "source": [
    "# Random Forest"
   ]
  },
  {
   "cell_type": "code",
   "execution_count": 97,
   "metadata": {},
   "outputs": [],
   "source": [
    "from sklearn.ensemble import RandomForestClassifier\n",
    "\n",
    "rf_model = RandomForestClassifier(random_state=42)\n",
    "\n",
    "rf_model.fit(X_train.T, y_train.T.ravel())\n",
    "\n",
    "accu = rf_model.score(X_test.T,y_test.T)*100\n",
    "accuracies['Random Forest'] = accu"
   ]
  },
  {
   "cell_type": "code",
   "execution_count": 98,
   "metadata": {},
   "outputs": [
    {
     "name": "stdout",
     "output_type": "stream",
     "text": [
      "Accuracy: 1.0000\n"
     ]
    }
   ],
   "source": [
    "rf_predict_train = rf_model.predict(X_train.T)\n",
    "\n",
    "rf_accuracy = metrics.accuracy_score(y_train.T, rf_predict_train)\n",
    "print (\"Accuracy: {0:.4f}\".format(rf_accuracy))"
   ]
  },
  {
   "cell_type": "markdown",
   "metadata": {},
   "source": [
    "# Performance on Testing data"
   ]
  },
  {
   "cell_type": "code",
   "execution_count": 99,
   "metadata": {},
   "outputs": [
    {
     "name": "stdout",
     "output_type": "stream",
     "text": [
      "Accuracy: 0.7949\n"
     ]
    }
   ],
   "source": [
    "rf_predict_test = rf_model.predict(X_test.T)\n",
    "\n",
    "rf_accuracy_testdata = metrics.accuracy_score(y_test.T, rf_predict_test)\n",
    "print (\"Accuracy: {0:.4f}\".format(rf_accuracy_testdata))"
   ]
  },
  {
   "cell_type": "code",
   "execution_count": 100,
   "metadata": {},
   "outputs": [
    {
     "name": "stdout",
     "output_type": "stream",
     "text": [
      "Confusion Matrix for Random Forest\n",
      "[[64  0]\n",
      " [ 0 18]]\n",
      "\n",
      "Classification Report\n",
      "\n",
      "              precision    recall  f1-score   support\n",
      "\n",
      "           1       0.81      0.90      0.85        71\n",
      "           0       0.82      0.75      0.78        24\n",
      "\n",
      "   micro avg       0.81      0.86      0.84        95\n",
      "   macro avg       0.81      0.83      0.82        95\n",
      "weighted avg       0.81      0.86      0.84        95\n",
      "\n"
     ]
    }
   ],
   "source": [
    "print (\"Confusion Matrix for Random Forest\")\n",
    "print (\"{0}\".format(metrics.confusion_matrix(y_test.T, rf_predict_test, labels=[1, 0])))\n",
    "print (\"\")\n",
    "print (\"Classification Report\\n\")\n",
    "print (\"{0}\".format(metrics.classification_report(y_test.T, rf_predict_test, labels=[1, 0])))"
   ]
  },
  {
   "cell_type": "markdown",
   "metadata": {},
   "source": [
    "# KNN"
   ]
  },
  {
   "cell_type": "code",
   "execution_count": 101,
   "metadata": {},
   "outputs": [],
   "source": [
    "# loading library\n",
    "from sklearn.neighbors import KNeighborsClassifier\n",
    "\n",
    "# instantiate learning model (k = 5)\n",
    "knn = KNeighborsClassifier(n_neighbors=5)\n",
    "\n",
    "# fitting the model\n",
    "knn.fit(X_train.T, y_train.T.ravel())\n",
    "\n",
    "accu = knn.score(X_test.T,y_test.T)*100\n",
    "accuracies['KNN'] = accu\n",
    "\n",
    "# predict the train response\n",
    "x_pred = knn.predict(X_train.T)\n",
    "\n",
    "# predict the test response\n",
    "y_pred = knn.predict(X_test.T)"
   ]
  },
  {
   "cell_type": "code",
   "execution_count": 102,
   "metadata": {},
   "outputs": [
    {
     "name": "stdout",
     "output_type": "stream",
     "text": [
      "Accuracy: 0.7458563535911602\n"
     ]
    }
   ],
   "source": [
    "# Model Accuracy, how often is the classifier correct?\n",
    "print(\"Accuracy:\",metrics.accuracy_score(y_train.T, x_pred))"
   ]
  },
  {
   "cell_type": "markdown",
   "metadata": {},
   "source": [
    "# Performance on Testing data"
   ]
  },
  {
   "cell_type": "code",
   "execution_count": 103,
   "metadata": {},
   "outputs": [
    {
     "name": "stdout",
     "output_type": "stream",
     "text": [
      "Accuracy: 0.6346153846153846\n"
     ]
    }
   ],
   "source": [
    "# Model Accuracy, how often is the classifier correct?\n",
    "print(\"Accuracy:\",metrics.accuracy_score(y_test.T, y_pred))"
   ]
  },
  {
   "cell_type": "code",
   "execution_count": 104,
   "metadata": {},
   "outputs": [
    {
     "name": "stdout",
     "output_type": "stream",
     "text": [
      "Accuracy: 0.6346\n",
      "Confusion Matrix for KNN Classifier\n",
      "[[45  7]\n",
      " [ 0 16]]\n",
      "\n",
      "Classification Report\n",
      "\n",
      "              precision    recall  f1-score   support\n",
      "\n",
      "           1       0.74      0.63      0.68        71\n",
      "           0       0.53      0.67      0.59        24\n",
      "\n",
      "   micro avg       0.67      0.64      0.66        95\n",
      "   macro avg       0.64      0.65      0.64        95\n",
      "weighted avg       0.69      0.64      0.66        95\n",
      "\n"
     ]
    }
   ],
   "source": [
    "knn_predict_test = knn.predict(X_test.T)\n",
    "knn_accuracy_testdata = metrics.accuracy_score(y_test.T, knn_predict_test)\n",
    "print (\"Accuracy: {0:.4f}\".format(knn_accuracy_testdata))\n",
    "print (\"Confusion Matrix for KNN Classifier\")\n",
    "\n",
    "# labels for set 1=True to upper left and 0 = False to lower right\n",
    "print (\"{0}\".format(metrics.confusion_matrix(y_test.T, knn_predict_test, labels=[1, 0])))\n",
    "print (\"\")\n",
    "print (\"Classification Report\\n\")\n",
    "print (\"{0}\".format(metrics.classification_report(y_test.T, knn_predict_test, labels=[1, 0])))"
   ]
  },
  {
   "cell_type": "markdown",
   "metadata": {},
   "source": [
    "# Training, Test Data Preparing considering top 4 features"
   ]
  },
  {
   "cell_type": "code",
   "execution_count": 106,
   "metadata": {},
   "outputs": [],
   "source": [
    "feature_column_names = ['goThroughCourseMaterial','studentAbsenceDays','questionsAskedInTheClassroom','batch']\n",
    "                        \n",
    "predicted_class_name = ['Class']\n",
    "\n",
    "# Getting feature variable values\n",
    "X = final_data_frame[feature_column_names].values\n",
    "y = final_data_frame[predicted_class_name].values\n",
    "\n",
    "# Saving 30% for testing\n",
    "split_test_size = 0.30\n",
    "\n",
    "# Splitting using scikit-learn train_test_split function\n",
    "X_train, X_test, y_train, y_test = train_test_split(X, y, test_size = split_test_size, random_state = 42)"
   ]
  },
  {
   "cell_type": "code",
   "execution_count": 107,
   "metadata": {},
   "outputs": [],
   "source": [
    "X_train = X_train.T\n",
    "y_train = y_train.T\n",
    "X_test = X_test.T\n",
    "y_test = y_test.T"
   ]
  },
  {
   "cell_type": "code",
   "execution_count": 108,
   "metadata": {},
   "outputs": [
    {
     "name": "stdout",
     "output_type": "stream",
     "text": [
      "0.77% in training set\n",
      "0.77% in test set\n"
     ]
    }
   ],
   "source": [
    "print(\"{0:0.2f}% in training set\".format((len(X_train)/len(data_frame.index)) * 100))\n",
    "print(\"{0:0.2f}% in test set\".format((len(X_test)/len(data_frame.index)) * 100))"
   ]
  },
  {
   "cell_type": "markdown",
   "metadata": {},
   "source": [
    "# DT"
   ]
  },
  {
   "cell_type": "code",
   "execution_count": 109,
   "metadata": {},
   "outputs": [],
   "source": [
    "accuracies = {}\n",
    "\n",
    "# Create Decision Tree classifer object\n",
    "clf = DecisionTreeClassifier()\n",
    "\n",
    "# Train Decision Tree Classifer\n",
    "clf = clf.fit(X_train.T,y_train.T)\n",
    "\n",
    "accu = clf.score(X_test.T,y_test.T)*100\n",
    "accuracies['Decision Tree'] = accu\n",
    "\n",
    "#Predict the response for test dataset\n",
    "x_pred = clf.predict(X_train.T)\n",
    "\n",
    "#Predict the response for test dataset\n",
    "y_pred = clf.predict(X_test.T)"
   ]
  },
  {
   "cell_type": "code",
   "execution_count": 110,
   "metadata": {},
   "outputs": [
    {
     "name": "stdout",
     "output_type": "stream",
     "text": [
      "Accuracy: 0.9972375690607734\n"
     ]
    }
   ],
   "source": [
    "# Model Accuracy, how often is the classifier correct?\n",
    "print(\"Accuracy:\",metrics.accuracy_score(y_train.T, x_pred))"
   ]
  },
  {
   "cell_type": "markdown",
   "metadata": {},
   "source": [
    "# Performance on Testing data"
   ]
  },
  {
   "cell_type": "code",
   "execution_count": 111,
   "metadata": {},
   "outputs": [
    {
     "name": "stdout",
     "output_type": "stream",
     "text": [
      "Accuracy: 0.7692307692307693\n"
     ]
    }
   ],
   "source": [
    "# Model Accuracy, how often is the classifier correct?\n",
    "print(\"Accuracy:\",metrics.accuracy_score(y_test.T, y_pred))"
   ]
  },
  {
   "cell_type": "markdown",
   "metadata": {},
   "source": [
    "# GaussianNB"
   ]
  },
  {
   "cell_type": "code",
   "execution_count": 112,
   "metadata": {},
   "outputs": [],
   "source": [
    "# create GaussianNBr model object and train it with the data\n",
    "from sklearn.naive_bayes import GaussianNB\n",
    "nb_model= GaussianNB()\n",
    "nb_model.fit(X_train.T, y_train.T.ravel())  # ravel() return 1-D array\n",
    "\n",
    "accu = nb_model.score(X_test.T,y_test.T)*100\n",
    "accuracies['Naive Bayes'] = accu"
   ]
  },
  {
   "cell_type": "code",
   "execution_count": 113,
   "metadata": {},
   "outputs": [
    {
     "name": "stdout",
     "output_type": "stream",
     "text": [
      "Accuracy of our GaussianNB model is : 0.7514\n"
     ]
    }
   ],
   "source": [
    "# performance metrics library\n",
    "from sklearn import metrics\n",
    "\n",
    "# get current accuracy of the model\n",
    "prediction_from_trained_data = nb_model.predict(X_train.T)\n",
    "\n",
    "accuracy = metrics.accuracy_score(y_train.T, prediction_from_trained_data)\n",
    "\n",
    "print (\"Accuracy of our GaussianNB model is : {0:.4f}\".format(accuracy))"
   ]
  },
  {
   "cell_type": "markdown",
   "metadata": {},
   "source": [
    "# Performance on Testing data"
   ]
  },
  {
   "cell_type": "code",
   "execution_count": 114,
   "metadata": {},
   "outputs": [
    {
     "name": "stdout",
     "output_type": "stream",
     "text": [
      "Accuracy of our GaussianNB model is: 0.7244\n"
     ]
    }
   ],
   "source": [
    "# this returns array of predicted results from test_data\n",
    "prediction_from_test_data = nb_model.predict(X_test.T)\n",
    "\n",
    "accuracy = metrics.accuracy_score(y_test.T, prediction_from_test_data)\n",
    "\n",
    "print (\"Accuracy of our GaussianNB model is: {0:0.4f}\".format(accuracy))"
   ]
  },
  {
   "cell_type": "markdown",
   "metadata": {},
   "source": [
    "# RM"
   ]
  },
  {
   "cell_type": "code",
   "execution_count": 115,
   "metadata": {},
   "outputs": [],
   "source": [
    "from sklearn.ensemble import RandomForestClassifier\n",
    "\n",
    "rf_model = RandomForestClassifier(random_state=42)\n",
    "\n",
    "rf_model.fit(X_train.T, y_train.T.ravel())\n",
    "\n",
    "accu = rf_model.score(X_test.T,y_test.T)*100\n",
    "accuracies['Random Forest'] = accu"
   ]
  },
  {
   "cell_type": "code",
   "execution_count": 116,
   "metadata": {},
   "outputs": [
    {
     "name": "stdout",
     "output_type": "stream",
     "text": [
      "Accuracy: 0.9972\n"
     ]
    }
   ],
   "source": [
    "rf_predict_train = rf_model.predict(X_train.T)\n",
    "\n",
    "rf_accuracy = metrics.accuracy_score(y_train.T, rf_predict_train)\n",
    "print (\"Accuracy: {0:.4f}\".format(rf_accuracy))"
   ]
  },
  {
   "cell_type": "markdown",
   "metadata": {},
   "source": [
    "# Performance on Testing data"
   ]
  },
  {
   "cell_type": "code",
   "execution_count": 117,
   "metadata": {},
   "outputs": [
    {
     "name": "stdout",
     "output_type": "stream",
     "text": [
      "Accuracy: 0.8269\n"
     ]
    }
   ],
   "source": [
    "rf_predict_test = rf_model.predict(X_test.T)\n",
    "\n",
    "rf_accuracy_testdata = metrics.accuracy_score(y_test.T, rf_predict_test)\n",
    "print (\"Accuracy: {0:.4f}\".format(rf_accuracy_testdata))"
   ]
  },
  {
   "cell_type": "markdown",
   "metadata": {},
   "source": [
    "# KNN"
   ]
  },
  {
   "cell_type": "code",
   "execution_count": 118,
   "metadata": {},
   "outputs": [],
   "source": [
    "# loading library\n",
    "from sklearn.neighbors import KNeighborsClassifier\n",
    "\n",
    "# instantiate learning model (k = 5)\n",
    "knn = KNeighborsClassifier(n_neighbors=5)\n",
    "\n",
    "# fitting the model\n",
    "knn.fit(X_train.T, y_train.T.ravel())\n",
    "\n",
    "accu = knn.score(X_test.T,y_test.T)*100\n",
    "accuracies['KNN'] = accu\n",
    "\n",
    "# predict the train response\n",
    "x_pred = knn.predict(X_train.T)\n",
    "\n",
    "# predict the test response\n",
    "y_pred = knn.predict(X_test.T)"
   ]
  },
  {
   "cell_type": "code",
   "execution_count": 119,
   "metadata": {},
   "outputs": [
    {
     "name": "stdout",
     "output_type": "stream",
     "text": [
      "Accuracy: 0.7955801104972375\n"
     ]
    }
   ],
   "source": [
    "# Model Accuracy, how often is the classifier correct?\n",
    "print(\"Accuracy:\",metrics.accuracy_score(y_train.T, x_pred))"
   ]
  },
  {
   "cell_type": "markdown",
   "metadata": {},
   "source": [
    "# Performance on Testing data"
   ]
  },
  {
   "cell_type": "code",
   "execution_count": 120,
   "metadata": {},
   "outputs": [
    {
     "name": "stdout",
     "output_type": "stream",
     "text": [
      "Accuracy: 0.6153846153846154\n"
     ]
    }
   ],
   "source": [
    "# Model Accuracy, how often is the classifier correct?\n",
    "print(\"Accuracy:\",metrics.accuracy_score(y_test.T, y_pred))"
   ]
  },
  {
   "cell_type": "code",
   "execution_count": null,
   "metadata": {},
   "outputs": [],
   "source": []
  },
  {
   "cell_type": "code",
   "execution_count": null,
   "metadata": {},
   "outputs": [],
   "source": []
  },
  {
   "cell_type": "markdown",
   "metadata": {},
   "source": [
    "# ANN"
   ]
  },
  {
   "cell_type": "code",
   "execution_count": 121,
   "metadata": {},
   "outputs": [],
   "source": [
    "feature_column_names = ['goThroughCourseMaterial','studentAbsenceDays','questionsAskedInTheClassroom','batch', 'groupStudyHours','department_ESDM', 'placeOfBirth_Feni', 'nationality_Nigeria', 'placeOfBirth_Bosasosomalia', 'questionsAskInTheClassroom_H']\n",
    "                        \n",
    "predicted_class_name = ['Class']\n",
    "\n",
    "# Getting feature variable values\n",
    "X = final_data_frame[feature_column_names].values\n",
    "y = final_data_frame[predicted_class_name].values\n",
    "\n",
    "# Saving 30% for testing\n",
    "split_test_size = 0.30\n",
    "\n",
    "# Splitting using scikit-learn train_test_split function\n",
    "X_train, X_test, y_train, y_test = train_test_split(X, y, test_size = split_test_size, random_state = 42)"
   ]
  },
  {
   "cell_type": "code",
   "execution_count": 122,
   "metadata": {},
   "outputs": [
    {
     "name": "stdout",
     "output_type": "stream",
     "text": [
      "69.88% in training set\n",
      "30.12% in test set\n"
     ]
    }
   ],
   "source": [
    "print(\"{0:0.2f}% in training set\".format((len(X_train)/len(data_frame.index)) * 100))\n",
    "print(\"{0:0.2f}% in test set\".format((len(X_test)/len(data_frame.index)) * 100))"
   ]
  },
  {
   "cell_type": "code",
   "execution_count": 123,
   "metadata": {},
   "outputs": [
    {
     "name": "stdout",
     "output_type": "stream",
     "text": [
      "['goThroughCourseMaterial', 'studentAbsenceDays', 'questionsAskedInTheClassroom', 'batch', 'groupStudyHours', 'department_ESDM', 'placeOfBirth_Feni', 'nationality_Nigeria', 'placeOfBirth_Bosasosomalia', 'questionsAskInTheClassroom_H']\n"
     ]
    }
   ],
   "source": [
    "print(feature_column_names)"
   ]
  },
  {
   "cell_type": "code",
   "execution_count": 124,
   "metadata": {},
   "outputs": [
    {
     "ename": "ModuleNotFoundError",
     "evalue": "No module named 'tensorflow'",
     "output_type": "error",
     "traceback": [
      "\u001b[1;31m---------------------------------------------------------------------------\u001b[0m",
      "\u001b[1;31mModuleNotFoundError\u001b[0m                       Traceback (most recent call last)",
      "\u001b[1;32m<ipython-input-124-abb192a734c9>\u001b[0m in \u001b[0;36m<module>\u001b[1;34m\u001b[0m\n\u001b[1;32m----> 1\u001b[1;33m \u001b[1;32mfrom\u001b[0m \u001b[0mtensorflow\u001b[0m\u001b[1;33m.\u001b[0m\u001b[0mkeras\u001b[0m\u001b[1;33m.\u001b[0m\u001b[0mmodels\u001b[0m \u001b[1;32mimport\u001b[0m \u001b[0mSequential\u001b[0m\u001b[1;33m\u001b[0m\u001b[1;33m\u001b[0m\u001b[0m\n\u001b[0m\u001b[0;32m      2\u001b[0m \u001b[1;32mfrom\u001b[0m \u001b[0mtensorflow\u001b[0m\u001b[1;33m.\u001b[0m\u001b[0mkeras\u001b[0m\u001b[1;33m.\u001b[0m\u001b[0mlayers\u001b[0m \u001b[1;32mimport\u001b[0m \u001b[0mDense\u001b[0m\u001b[1;33m,\u001b[0m \u001b[0mActivation\u001b[0m\u001b[1;33m\u001b[0m\u001b[1;33m\u001b[0m\u001b[0m\n\u001b[0;32m      3\u001b[0m \u001b[1;32mfrom\u001b[0m \u001b[0mtensorflow\u001b[0m\u001b[1;33m.\u001b[0m\u001b[0mkeras\u001b[0m\u001b[1;33m.\u001b[0m\u001b[0moptimizers\u001b[0m \u001b[1;32mimport\u001b[0m \u001b[0mAdam\u001b[0m\u001b[1;33m\u001b[0m\u001b[1;33m\u001b[0m\u001b[0m\n\u001b[0;32m      4\u001b[0m \u001b[1;32mfrom\u001b[0m \u001b[0mtensorflow\u001b[0m\u001b[1;33m.\u001b[0m\u001b[0mkeras\u001b[0m \u001b[1;32mimport\u001b[0m \u001b[0mbackend\u001b[0m \u001b[1;32mas\u001b[0m \u001b[0mK\u001b[0m\u001b[1;33m\u001b[0m\u001b[1;33m\u001b[0m\u001b[0m\n\u001b[0;32m      5\u001b[0m \u001b[1;33m\u001b[0m\u001b[0m\n",
      "\u001b[1;31mModuleNotFoundError\u001b[0m: No module named 'tensorflow'"
     ]
    }
   ],
   "source": [
    "from tensorflow.keras.models import Sequential\n",
    "from tensorflow.keras.layers import Dense, Activation\n",
    "from tensorflow.keras.optimizers import Adam\n",
    "from tensorflow.keras import backend as K\n",
    "\n",
    "from tensorflow.keras.metrics import categorical_crossentropy"
   ]
  },
  {
   "cell_type": "code",
   "execution_count": 125,
   "metadata": {},
   "outputs": [
    {
     "name": "stdout",
     "output_type": "stream",
     "text": [
      "10\n",
      "10\n"
     ]
    }
   ],
   "source": [
    "print(len(feature_column_names))\n",
    "test_columns = len(feature_column_names)\n",
    "print(test_columns)"
   ]
  },
  {
   "cell_type": "code",
   "execution_count": 126,
   "metadata": {
    "scrolled": false
   },
   "outputs": [
    {
     "name": "stdout",
     "output_type": "stream",
     "text": [
      "['goThroughCourseMaterial', 'studentAbsenceDays', 'questionsAskedInTheClassroom', 'batch', 'groupStudyHours', 'department_ESDM', 'placeOfBirth_Feni', 'nationality_Nigeria', 'placeOfBirth_Bosasosomalia', 'questionsAskInTheClassroom_H']\n"
     ]
    },
    {
     "ename": "NameError",
     "evalue": "name 'Sequential' is not defined",
     "output_type": "error",
     "traceback": [
      "\u001b[1;31m---------------------------------------------------------------------------\u001b[0m",
      "\u001b[1;31mNameError\u001b[0m                                 Traceback (most recent call last)",
      "\u001b[1;32m<ipython-input-126-3f453ecefb86>\u001b[0m in \u001b[0;36m<module>\u001b[1;34m\u001b[0m\n\u001b[0;32m      8\u001b[0m     \u001b[1;31m# Initialising the ANN\u001b[0m\u001b[1;33m\u001b[0m\u001b[1;33m\u001b[0m\u001b[1;33m\u001b[0m\u001b[0m\n\u001b[0;32m      9\u001b[0m   \u001b[0mprint\u001b[0m\u001b[1;33m(\u001b[0m\u001b[0mfeature_column_names\u001b[0m\u001b[1;33m)\u001b[0m\u001b[1;33m\u001b[0m\u001b[1;33m\u001b[0m\u001b[0m\n\u001b[1;32m---> 10\u001b[1;33m   \u001b[0mclassifier\u001b[0m \u001b[1;33m=\u001b[0m \u001b[0mSequential\u001b[0m\u001b[1;33m(\u001b[0m\u001b[1;33m)\u001b[0m\u001b[1;33m\u001b[0m\u001b[1;33m\u001b[0m\u001b[0m\n\u001b[0m\u001b[0;32m     11\u001b[0m \u001b[1;33m\u001b[0m\u001b[0m\n\u001b[0;32m     12\u001b[0m \u001b[1;31m# Adding the input layer and the first hidden layer\u001b[0m\u001b[1;33m\u001b[0m\u001b[1;33m\u001b[0m\u001b[1;33m\u001b[0m\u001b[0m\n",
      "\u001b[1;31mNameError\u001b[0m: name 'Sequential' is not defined"
     ]
    }
   ],
   "source": [
    "acc =0\n",
    "j= 0\n",
    "test_columns = len(feature_column_names)\n",
    "featureNo = 10\n",
    "\n",
    "while j < test_columns:\n",
    "    # Initialising the ANN\n",
    "    # Initialising the ANN\n",
    "  print(feature_column_names)\n",
    "  classifier = Sequential()\n",
    "\n",
    "# Adding the input layer and the first hidden layer\n",
    "  classifier.add(Dense(units = 70, kernel_initializer = 'uniform', activation = 'relu', input_dim = featureNo))\n",
    "\n",
    "# Adding the second hidden layer\n",
    "  classifier.add(Dense(units = 66, kernel_initializer = 'uniform', activation = 'relu'))\n",
    "\n",
    "# Adding the third hidden layer\n",
    "  classifier.add(Dense(units = 60, kernel_initializer = 'uniform', activation = 'relu'))\n",
    "\n",
    "# Adding the fourth hidden layer\n",
    "  classifier.add(Dense(units = 56, kernel_initializer = 'uniform', activation = 'relu'))\n",
    "\n",
    "# Adding the fifth hidden layer\n",
    "  classifier.add(Dense(units = 48, kernel_initializer = 'uniform', activation = 'relu'))\n",
    "\n",
    "# Adding the output layer\n",
    "  classifier.add(Dense(units = 3, kernel_initializer = 'uniform', activation = 'sigmoid'))\n",
    "\n",
    "# Compiling the ANN\n",
    "  classifier.compile(Adam(lr=.001), loss = 'sparse_categorical_crossentropy', metrics = ['accuracy'])\n",
    "\n",
    "# Fitting the ANN to the Training set\n",
    "  classifier.fit(X_train, y_train, batch_size =42 , epochs = 2)\n",
    "  \n",
    "  \n",
    "\n",
    "  # Predicting the Test set results\n",
    "  predictions = classifier.predict(X_test)\n",
    "  \n",
    "  for p in predictions:\n",
    "    print(p)\n",
    "\n",
    "  accuracy = (predictions[0][0]+predictions[1][1])/(predictions[0][0]+predictions[0][1]+predictions[1][0]+predictions[1][1])\n",
    "  acc = str(accuracy*100)\n",
    "  print(\"Accuracy: \"+ acc+\"%\")\n",
    "    \n",
    "  \n",
    "  \n",
    "    \n",
    "  print(featureNo)\n",
    "  print(feature_column_names)\n",
    "  feature_column_names.pop()\n",
    "  featureNo -= 1\n",
    "  print(featureNo)\n",
    "  X = final_data_frame[feature_column_names].values\n",
    "  X_train, X_test, y_train, y_test = train_test_split(X, y, test_size = 0.3, random_state = 42)\n",
    "  j += 1\n",
    "  "
   ]
  },
  {
   "cell_type": "code",
   "execution_count": 127,
   "metadata": {},
   "outputs": [
    {
     "ename": "KeyError",
     "evalue": "\"['questionsAskedInTheClassroom '] not in index\"",
     "output_type": "error",
     "traceback": [
      "\u001b[1;31m---------------------------------------------------------------------------\u001b[0m",
      "\u001b[1;31mKeyError\u001b[0m                                  Traceback (most recent call last)",
      "\u001b[1;32m<ipython-input-127-ed2b31ef2d47>\u001b[0m in \u001b[0;36m<module>\u001b[1;34m\u001b[0m\n\u001b[0;32m      4\u001b[0m \u001b[1;33m\u001b[0m\u001b[0m\n\u001b[0;32m      5\u001b[0m \u001b[1;31m# Getting feature variable values\u001b[0m\u001b[1;33m\u001b[0m\u001b[1;33m\u001b[0m\u001b[1;33m\u001b[0m\u001b[0m\n\u001b[1;32m----> 6\u001b[1;33m \u001b[0mX\u001b[0m \u001b[1;33m=\u001b[0m \u001b[0mfinal_data_frame\u001b[0m\u001b[1;33m[\u001b[0m\u001b[0mfeature_column_names\u001b[0m\u001b[1;33m]\u001b[0m\u001b[1;33m.\u001b[0m\u001b[0mvalues\u001b[0m\u001b[1;33m\u001b[0m\u001b[1;33m\u001b[0m\u001b[0m\n\u001b[0m\u001b[0;32m      7\u001b[0m \u001b[0my\u001b[0m \u001b[1;33m=\u001b[0m \u001b[0mfinal_data_frame\u001b[0m\u001b[1;33m[\u001b[0m\u001b[0mpredicted_class_name\u001b[0m\u001b[1;33m]\u001b[0m\u001b[1;33m.\u001b[0m\u001b[0mvalues\u001b[0m\u001b[1;33m\u001b[0m\u001b[1;33m\u001b[0m\u001b[0m\n\u001b[0;32m      8\u001b[0m \u001b[1;33m\u001b[0m\u001b[0m\n",
      "\u001b[1;32mC:\\ProgramData\\Anaconda3\\lib\\site-packages\\pandas\\core\\frame.py\u001b[0m in \u001b[0;36m__getitem__\u001b[1;34m(self, key)\u001b[0m\n\u001b[0;32m   2906\u001b[0m             \u001b[1;32mif\u001b[0m \u001b[0mis_iterator\u001b[0m\u001b[1;33m(\u001b[0m\u001b[0mkey\u001b[0m\u001b[1;33m)\u001b[0m\u001b[1;33m:\u001b[0m\u001b[1;33m\u001b[0m\u001b[1;33m\u001b[0m\u001b[0m\n\u001b[0;32m   2907\u001b[0m                 \u001b[0mkey\u001b[0m \u001b[1;33m=\u001b[0m \u001b[0mlist\u001b[0m\u001b[1;33m(\u001b[0m\u001b[0mkey\u001b[0m\u001b[1;33m)\u001b[0m\u001b[1;33m\u001b[0m\u001b[1;33m\u001b[0m\u001b[0m\n\u001b[1;32m-> 2908\u001b[1;33m             \u001b[0mindexer\u001b[0m \u001b[1;33m=\u001b[0m \u001b[0mself\u001b[0m\u001b[1;33m.\u001b[0m\u001b[0mloc\u001b[0m\u001b[1;33m.\u001b[0m\u001b[0m_get_listlike_indexer\u001b[0m\u001b[1;33m(\u001b[0m\u001b[0mkey\u001b[0m\u001b[1;33m,\u001b[0m \u001b[0maxis\u001b[0m\u001b[1;33m=\u001b[0m\u001b[1;36m1\u001b[0m\u001b[1;33m,\u001b[0m \u001b[0mraise_missing\u001b[0m\u001b[1;33m=\u001b[0m\u001b[1;32mTrue\u001b[0m\u001b[1;33m)\u001b[0m\u001b[1;33m[\u001b[0m\u001b[1;36m1\u001b[0m\u001b[1;33m]\u001b[0m\u001b[1;33m\u001b[0m\u001b[1;33m\u001b[0m\u001b[0m\n\u001b[0m\u001b[0;32m   2909\u001b[0m \u001b[1;33m\u001b[0m\u001b[0m\n\u001b[0;32m   2910\u001b[0m         \u001b[1;31m# take() does not accept boolean indexers\u001b[0m\u001b[1;33m\u001b[0m\u001b[1;33m\u001b[0m\u001b[1;33m\u001b[0m\u001b[0m\n",
      "\u001b[1;32mC:\\ProgramData\\Anaconda3\\lib\\site-packages\\pandas\\core\\indexing.py\u001b[0m in \u001b[0;36m_get_listlike_indexer\u001b[1;34m(self, key, axis, raise_missing)\u001b[0m\n\u001b[0;32m   1252\u001b[0m             \u001b[0mkeyarr\u001b[0m\u001b[1;33m,\u001b[0m \u001b[0mindexer\u001b[0m\u001b[1;33m,\u001b[0m \u001b[0mnew_indexer\u001b[0m \u001b[1;33m=\u001b[0m \u001b[0max\u001b[0m\u001b[1;33m.\u001b[0m\u001b[0m_reindex_non_unique\u001b[0m\u001b[1;33m(\u001b[0m\u001b[0mkeyarr\u001b[0m\u001b[1;33m)\u001b[0m\u001b[1;33m\u001b[0m\u001b[1;33m\u001b[0m\u001b[0m\n\u001b[0;32m   1253\u001b[0m \u001b[1;33m\u001b[0m\u001b[0m\n\u001b[1;32m-> 1254\u001b[1;33m         \u001b[0mself\u001b[0m\u001b[1;33m.\u001b[0m\u001b[0m_validate_read_indexer\u001b[0m\u001b[1;33m(\u001b[0m\u001b[0mkeyarr\u001b[0m\u001b[1;33m,\u001b[0m \u001b[0mindexer\u001b[0m\u001b[1;33m,\u001b[0m \u001b[0maxis\u001b[0m\u001b[1;33m,\u001b[0m \u001b[0mraise_missing\u001b[0m\u001b[1;33m=\u001b[0m\u001b[0mraise_missing\u001b[0m\u001b[1;33m)\u001b[0m\u001b[1;33m\u001b[0m\u001b[1;33m\u001b[0m\u001b[0m\n\u001b[0m\u001b[0;32m   1255\u001b[0m         \u001b[1;32mreturn\u001b[0m \u001b[0mkeyarr\u001b[0m\u001b[1;33m,\u001b[0m \u001b[0mindexer\u001b[0m\u001b[1;33m\u001b[0m\u001b[1;33m\u001b[0m\u001b[0m\n\u001b[0;32m   1256\u001b[0m \u001b[1;33m\u001b[0m\u001b[0m\n",
      "\u001b[1;32mC:\\ProgramData\\Anaconda3\\lib\\site-packages\\pandas\\core\\indexing.py\u001b[0m in \u001b[0;36m_validate_read_indexer\u001b[1;34m(self, key, indexer, axis, raise_missing)\u001b[0m\n\u001b[0;32m   1302\u001b[0m             \u001b[1;32mif\u001b[0m \u001b[0mraise_missing\u001b[0m\u001b[1;33m:\u001b[0m\u001b[1;33m\u001b[0m\u001b[1;33m\u001b[0m\u001b[0m\n\u001b[0;32m   1303\u001b[0m                 \u001b[0mnot_found\u001b[0m \u001b[1;33m=\u001b[0m \u001b[0mlist\u001b[0m\u001b[1;33m(\u001b[0m\u001b[0mset\u001b[0m\u001b[1;33m(\u001b[0m\u001b[0mkey\u001b[0m\u001b[1;33m)\u001b[0m \u001b[1;33m-\u001b[0m \u001b[0mset\u001b[0m\u001b[1;33m(\u001b[0m\u001b[0max\u001b[0m\u001b[1;33m)\u001b[0m\u001b[1;33m)\u001b[0m\u001b[1;33m\u001b[0m\u001b[1;33m\u001b[0m\u001b[0m\n\u001b[1;32m-> 1304\u001b[1;33m                 \u001b[1;32mraise\u001b[0m \u001b[0mKeyError\u001b[0m\u001b[1;33m(\u001b[0m\u001b[1;34mf\"{not_found} not in index\"\u001b[0m\u001b[1;33m)\u001b[0m\u001b[1;33m\u001b[0m\u001b[1;33m\u001b[0m\u001b[0m\n\u001b[0m\u001b[0;32m   1305\u001b[0m \u001b[1;33m\u001b[0m\u001b[0m\n\u001b[0;32m   1306\u001b[0m             \u001b[1;31m# we skip the warning on Categorical\u001b[0m\u001b[1;33m\u001b[0m\u001b[1;33m\u001b[0m\u001b[1;33m\u001b[0m\u001b[0m\n",
      "\u001b[1;31mKeyError\u001b[0m: \"['questionsAskedInTheClassroom '] not in index\""
     ]
    }
   ],
   "source": [
    "feature_column_names = ['goThroughCourseMaterial','studentAbsenceDays','questionsAskedInTheClassroom']\n",
    "                        \n",
    "predicted_class_name = ['Class']\n",
    "\n",
    "# Getting feature variable values\n",
    "X = final_data_frame[feature_column_names].values\n",
    "y = final_data_frame[predicted_class_name].values\n",
    "\n",
    "# Saving 30% for testing\n",
    "split_test_size = 0.30\n",
    "\n",
    "# Splitting using scikit-learn train_test_split function\n",
    "X_train, X_test, y_train, y_test = train_test_split(X, y, test_size = split_test_size, random_state = 42)"
   ]
  },
  {
   "cell_type": "code",
   "execution_count": 128,
   "metadata": {},
   "outputs": [
    {
     "name": "stdout",
     "output_type": "stream",
     "text": [
      "69.88% in training set\n",
      "30.12% in test set\n"
     ]
    }
   ],
   "source": [
    "print(\"{0:0.2f}% in training set\".format((len(X_train)/len(data_frame.index)) * 100))\n",
    "print(\"{0:0.2f}% in test set\".format((len(X_test)/len(data_frame.index)) * 100))"
   ]
  },
  {
   "cell_type": "code",
   "execution_count": 129,
   "metadata": {},
   "outputs": [
    {
     "ename": "ModuleNotFoundError",
     "evalue": "No module named 'tensorflow'",
     "output_type": "error",
     "traceback": [
      "\u001b[1;31m---------------------------------------------------------------------------\u001b[0m",
      "\u001b[1;31mModuleNotFoundError\u001b[0m                       Traceback (most recent call last)",
      "\u001b[1;32m<ipython-input-129-abb192a734c9>\u001b[0m in \u001b[0;36m<module>\u001b[1;34m\u001b[0m\n\u001b[1;32m----> 1\u001b[1;33m \u001b[1;32mfrom\u001b[0m \u001b[0mtensorflow\u001b[0m\u001b[1;33m.\u001b[0m\u001b[0mkeras\u001b[0m\u001b[1;33m.\u001b[0m\u001b[0mmodels\u001b[0m \u001b[1;32mimport\u001b[0m \u001b[0mSequential\u001b[0m\u001b[1;33m\u001b[0m\u001b[1;33m\u001b[0m\u001b[0m\n\u001b[0m\u001b[0;32m      2\u001b[0m \u001b[1;32mfrom\u001b[0m \u001b[0mtensorflow\u001b[0m\u001b[1;33m.\u001b[0m\u001b[0mkeras\u001b[0m\u001b[1;33m.\u001b[0m\u001b[0mlayers\u001b[0m \u001b[1;32mimport\u001b[0m \u001b[0mDense\u001b[0m\u001b[1;33m,\u001b[0m \u001b[0mActivation\u001b[0m\u001b[1;33m\u001b[0m\u001b[1;33m\u001b[0m\u001b[0m\n\u001b[0;32m      3\u001b[0m \u001b[1;32mfrom\u001b[0m \u001b[0mtensorflow\u001b[0m\u001b[1;33m.\u001b[0m\u001b[0mkeras\u001b[0m\u001b[1;33m.\u001b[0m\u001b[0moptimizers\u001b[0m \u001b[1;32mimport\u001b[0m \u001b[0mAdam\u001b[0m\u001b[1;33m\u001b[0m\u001b[1;33m\u001b[0m\u001b[0m\n\u001b[0;32m      4\u001b[0m \u001b[1;32mfrom\u001b[0m \u001b[0mtensorflow\u001b[0m\u001b[1;33m.\u001b[0m\u001b[0mkeras\u001b[0m \u001b[1;32mimport\u001b[0m \u001b[0mbackend\u001b[0m \u001b[1;32mas\u001b[0m \u001b[0mK\u001b[0m\u001b[1;33m\u001b[0m\u001b[1;33m\u001b[0m\u001b[0m\n\u001b[0;32m      5\u001b[0m \u001b[1;33m\u001b[0m\u001b[0m\n",
      "\u001b[1;31mModuleNotFoundError\u001b[0m: No module named 'tensorflow'"
     ]
    }
   ],
   "source": [
    "from tensorflow.keras.models import Sequential\n",
    "from tensorflow.keras.layers import Dense, Activation\n",
    "from tensorflow.keras.optimizers import Adam\n",
    "from tensorflow.keras import backend as K\n",
    "\n",
    "from tensorflow.keras.metrics import categorical_crossentropy"
   ]
  },
  {
   "cell_type": "code",
   "execution_count": 130,
   "metadata": {},
   "outputs": [
    {
     "name": "stdout",
     "output_type": "stream",
     "text": [
      "['goThroughCourseMaterial', 'studentAbsenceDays', 'questionsAskedInTheClassroom ']\n"
     ]
    },
    {
     "ename": "NameError",
     "evalue": "name 'Sequential' is not defined",
     "output_type": "error",
     "traceback": [
      "\u001b[1;31m---------------------------------------------------------------------------\u001b[0m",
      "\u001b[1;31mNameError\u001b[0m                                 Traceback (most recent call last)",
      "\u001b[1;32m<ipython-input-130-013f014e000f>\u001b[0m in \u001b[0;36m<module>\u001b[1;34m\u001b[0m\n\u001b[0;32m      1\u001b[0m \u001b[0mprint\u001b[0m\u001b[1;33m(\u001b[0m\u001b[0mfeature_column_names\u001b[0m\u001b[1;33m)\u001b[0m\u001b[1;33m\u001b[0m\u001b[1;33m\u001b[0m\u001b[0m\n\u001b[1;32m----> 2\u001b[1;33m \u001b[0mclassifier\u001b[0m \u001b[1;33m=\u001b[0m \u001b[0mSequential\u001b[0m\u001b[1;33m(\u001b[0m\u001b[1;33m)\u001b[0m\u001b[1;33m\u001b[0m\u001b[1;33m\u001b[0m\u001b[0m\n\u001b[0m\u001b[0;32m      3\u001b[0m \u001b[1;33m\u001b[0m\u001b[0m\n\u001b[0;32m      4\u001b[0m \u001b[1;31m# Adding the input layer and the first hidden layer\u001b[0m\u001b[1;33m\u001b[0m\u001b[1;33m\u001b[0m\u001b[1;33m\u001b[0m\u001b[0m\n\u001b[0;32m      5\u001b[0m \u001b[0mclassifier\u001b[0m\u001b[1;33m.\u001b[0m\u001b[0madd\u001b[0m\u001b[1;33m(\u001b[0m\u001b[0mDense\u001b[0m\u001b[1;33m(\u001b[0m\u001b[0munits\u001b[0m \u001b[1;33m=\u001b[0m \u001b[1;36m76\u001b[0m\u001b[1;33m,\u001b[0m \u001b[0mkernel_initializer\u001b[0m \u001b[1;33m=\u001b[0m \u001b[1;34m'uniform'\u001b[0m\u001b[1;33m,\u001b[0m \u001b[0mactivation\u001b[0m \u001b[1;33m=\u001b[0m \u001b[1;34m'relu'\u001b[0m\u001b[1;33m,\u001b[0m \u001b[0minput_dim\u001b[0m \u001b[1;33m=\u001b[0m \u001b[1;36m3\u001b[0m\u001b[1;33m)\u001b[0m\u001b[1;33m)\u001b[0m\u001b[1;33m\u001b[0m\u001b[1;33m\u001b[0m\u001b[0m\n",
      "\u001b[1;31mNameError\u001b[0m: name 'Sequential' is not defined"
     ]
    }
   ],
   "source": [
    "  from keras.models import Sequential\n",
    "    \n",
    "    print(feature_column_names)\n",
    "  classifier = Sequential()\n",
    "\n",
    "# Adding the input layer and the first hidden layer\n",
    "  classifier.add(Dense(units = 76, kernel_initializer = 'uniform', activation = 'relu', input_dim = 3))\n",
    "\n",
    "# Adding the second hidden layer\n",
    "  classifier.add(Dense(units = 62, kernel_initializer = 'uniform', activation = 'relu'))\n",
    "\n",
    "# Adding the third hidden layer\n",
    "  classifier.add(Dense(units = 56, kernel_initializer = 'uniform', activation = 'relu'))\n",
    "\n",
    "# Adding the fourth hidden layer\n",
    "  classifier.add(Dense(units = 52, kernel_initializer = 'uniform', activation = 'relu'))\n",
    "\n",
    "# Adding the fifth hidden layer\n",
    "  classifier.add(Dense(units = 46, kernel_initializer = 'uniform', activation = 'relu'))\n",
    "\n",
    "# Adding the output layer\n",
    "  classifier.add(Dense(units = 3, kernel_initializer = 'uniform', activation = 'sigmoid'))\n",
    "\n",
    "# Compiling the ANN\n",
    "  classifier.compile(Adam(lr=.001), loss = 'sparse_categorical_crossentropy', metrics = ['accuracy'])\n",
    "\n",
    "# Fitting the ANN to the Training set\n",
    "  classifier.fit(X_train, y_train, batch_size =42 , epochs = 600)\n",
    "  \n",
    "\n",
    "  # Predicting the Test set results\n",
    "  predictions = classifier.predict(X_test)\n",
    "  \n",
    "  for p in predictions:\n",
    "    print(p)\n",
    "\n",
    "  accuracy = (predictions[0][0]+predictions[1][1])/(predictions[0][0]+predictions[0][1]+predictions[1][0]+predictions[1][1])\n",
    "  acc = str(accuracy*100)\n",
    "  print(\"Accuracy: \"+ acc+\"%\")"
   ]
  },
  {
   "cell_type": "code",
   "execution_count": null,
   "metadata": {},
   "outputs": [],
   "source": []
  },
  {
   "cell_type": "markdown",
   "metadata": {},
   "source": [
    "# Save trained ANN"
   ]
  },
  {
   "cell_type": "code",
   "execution_count": null,
   "metadata": {},
   "outputs": [],
   "source": [
    "from tensorflow.keras.models import model_from_json\n",
    "#serialize classifier to JSON\n",
    "model_json = classifier.to_json()\n",
    "with open(\"student_prediction_model.json\", \"w\") as json_file:\n",
    "    json_file.write(model_json)"
   ]
  },
  {
   "cell_type": "code",
   "execution_count": null,
   "metadata": {},
   "outputs": [],
   "source": [
    "from tensorflow.keras.models import load_model\n",
    "\n",
    "classifier.save('student_prediction_model.h5')  # creates a HDF5 file 'my_model.h5'\n",
    "del classifier  # deletes the existing model\n",
    "\n",
    "# returns a compiled model\n",
    "# identical to the previous one\n",
    "model = load_model('student_prediction_model.h5')"
   ]
  },
  {
   "cell_type": "code",
   "execution_count": null,
   "metadata": {},
   "outputs": [],
   "source": []
  },
  {
   "cell_type": "code",
   "execution_count": null,
   "metadata": {},
   "outputs": [],
   "source": []
  },
  {
   "cell_type": "markdown",
   "metadata": {},
   "source": [
    "# ANN using kaggle Dataset"
   ]
  },
  {
   "cell_type": "code",
   "execution_count": null,
   "metadata": {},
   "outputs": [],
   "source": [
    "data_frame = pd.read_csv('E:\\\\xAPI-Edu-Data.csv')"
   ]
  },
  {
   "cell_type": "code",
   "execution_count": null,
   "metadata": {},
   "outputs": [],
   "source": [
    "data_frame.head(2)"
   ]
  },
  {
   "cell_type": "code",
   "execution_count": null,
   "metadata": {},
   "outputs": [],
   "source": [
    "# X and y\n",
    "Without_class_data_frame = data_frame.drop(columns=['Class'])\n",
    "Without_class_data_frame.head(2)"
   ]
  },
  {
   "cell_type": "code",
   "execution_count": null,
   "metadata": {},
   "outputs": [],
   "source": [
    "# Get dummies\n",
    "Without_class_data_frame = pd.get_dummies(Without_class_data_frame)\n",
    "\n",
    "# data_frame head\n",
    "Without_class_data_frame.head(3)"
   ]
  },
  {
   "cell_type": "code",
   "execution_count": null,
   "metadata": {},
   "outputs": [],
   "source": [
    "Class_data_frame = data_frame.drop(columns=['gender','NationalITy', 'PlaceofBirth','StageID','GradeID','SectionID','Topic','Semester','Relation','raisedhands','VisITedResources','AnnouncementsView','Discussion','ParentAnsweringSurvey','ParentschoolSatisfaction','StudentAbsenceDays'])\n",
    "Class_data_frame.head(2)"
   ]
  },
  {
   "cell_type": "code",
   "execution_count": null,
   "metadata": {},
   "outputs": [],
   "source": [
    "Class_data_frame['Class'].unique()"
   ]
  },
  {
   "cell_type": "code",
   "execution_count": null,
   "metadata": {},
   "outputs": [],
   "source": [
    "# label_encoder object knows how to understand word labels. \n",
    "label_encoder = preprocessing.LabelEncoder() \n",
    "  \n",
    "\n",
    "# Encode labels in column 'species'. \n",
    "Class_data_frame['Class']= label_encoder.fit_transform(Class_data_frame['Class']) \n",
    "  \n",
    "Class_data_frame['Class'].unique() \n"
   ]
  },
  {
   "cell_type": "code",
   "execution_count": null,
   "metadata": {},
   "outputs": [],
   "source": [
    "Class_data_frame = pd.DataFrame(Class_data_frame['Class'])\n",
    "final_data_frame = pd.concat([Without_class_data_frame, Class_data_frame], axis = 1)\n",
    "final_data_frame.head(2)"
   ]
  },
  {
   "cell_type": "code",
   "execution_count": null,
   "metadata": {},
   "outputs": [],
   "source": [
    "del final_data_frame[\"NationalITy_Iran\"]"
   ]
  },
  {
   "cell_type": "code",
   "execution_count": null,
   "metadata": {},
   "outputs": [],
   "source": [
    "del final_data_frame[\"NationalITy_Iraq\"]"
   ]
  },
  {
   "cell_type": "code",
   "execution_count": null,
   "metadata": {},
   "outputs": [],
   "source": [
    "del final_data_frame[\"NationalITy_KW\"]"
   ]
  },
  {
   "cell_type": "code",
   "execution_count": null,
   "metadata": {},
   "outputs": [],
   "source": [
    "del final_data_frame[\"NationalITy_Lybia\"]"
   ]
  },
  {
   "cell_type": "code",
   "execution_count": null,
   "metadata": {},
   "outputs": [],
   "source": [
    "del final_data_frame[\"NationalITy_Morocco\"]"
   ]
  },
  {
   "cell_type": "code",
   "execution_count": null,
   "metadata": {},
   "outputs": [],
   "source": [
    "del final_data_frame[\"NationalITy_venzuela\"]"
   ]
  },
  {
   "cell_type": "code",
   "execution_count": null,
   "metadata": {},
   "outputs": [],
   "source": [
    "del final_data_frame[\"NationalITy_Egypt\"]"
   ]
  },
  {
   "cell_type": "code",
   "execution_count": null,
   "metadata": {},
   "outputs": [],
   "source": [
    "del final_data_frame[\"NationalITy_Syria\"]"
   ]
  },
  {
   "cell_type": "code",
   "execution_count": null,
   "metadata": {},
   "outputs": [],
   "source": [
    "del final_data_frame[\"NationalITy_Tunis\"]"
   ]
  },
  {
   "cell_type": "code",
   "execution_count": null,
   "metadata": {},
   "outputs": [],
   "source": [
    "del final_data_frame[\"NationalITy_lebanon\"]"
   ]
  },
  {
   "cell_type": "code",
   "execution_count": null,
   "metadata": {},
   "outputs": [],
   "source": [
    "del final_data_frame[\"PlaceofBirth_Iran\"]"
   ]
  },
  {
   "cell_type": "code",
   "execution_count": null,
   "metadata": {},
   "outputs": [],
   "source": [
    "del final_data_frame[\"PlaceofBirth_Iraq\"]"
   ]
  },
  {
   "cell_type": "code",
   "execution_count": null,
   "metadata": {},
   "outputs": [],
   "source": [
    "del final_data_frame[\"PlaceofBirth_KuwaIT\"]"
   ]
  },
  {
   "cell_type": "code",
   "execution_count": null,
   "metadata": {},
   "outputs": [],
   "source": [
    "del final_data_frame[\"PlaceofBirth_Lybia\"]"
   ]
  },
  {
   "cell_type": "code",
   "execution_count": null,
   "metadata": {},
   "outputs": [],
   "source": [
    "del final_data_frame[\"PlaceofBirth_Morocco\"]"
   ]
  },
  {
   "cell_type": "code",
   "execution_count": null,
   "metadata": {},
   "outputs": [],
   "source": [
    "del final_data_frame[\"PlaceofBirth_venzuela\"]"
   ]
  },
  {
   "cell_type": "code",
   "execution_count": null,
   "metadata": {},
   "outputs": [],
   "source": [
    "del final_data_frame[\"PlaceofBirth_Egypt\"]"
   ]
  },
  {
   "cell_type": "code",
   "execution_count": null,
   "metadata": {},
   "outputs": [],
   "source": [
    "del final_data_frame[\"PlaceofBirth_Syria\"]"
   ]
  },
  {
   "cell_type": "code",
   "execution_count": null,
   "metadata": {},
   "outputs": [],
   "source": [
    "del final_data_frame[\"PlaceofBirth_Tunis\"]"
   ]
  },
  {
   "cell_type": "code",
   "execution_count": null,
   "metadata": {},
   "outputs": [],
   "source": [
    "del final_data_frame[\"PlaceofBirth_lebanon\"]"
   ]
  },
  {
   "cell_type": "code",
   "execution_count": null,
   "metadata": {},
   "outputs": [],
   "source": [
    "X = final_data_frame.iloc[:,:-1]\n",
    "y = final_data_frame.iloc[:,-1:]   \n",
    "\n",
    "dfcolumns =pd.DataFrame(final_data_frame.columns) \n",
    "#chi2\n",
    "bestfeatures = SelectKBest(score_func=sklearn_chi2, k='all')\n",
    "fit = bestfeatures.fit(X,y)\n",
    "dfscores = pd.DataFrame(fit.scores_)\n",
    "\n",
    "\n",
    "#concat two dataframes for better visualization \n",
    "featureScores = pd.concat([dfcolumns,dfscores],axis=1)\n",
    "featureScores.columns = ['Specs','Chi2 Weights']\n",
    "# print(featureScores.nlargest(len(data_frame.columns),'Score'))\n",
    "\n",
    "# featureScores.plot(kind='bar', subplots=True, figsize=(20,20))\n",
    "featureScores = featureScores.sort_values(by=['Chi2 Weights'], ascending=False)\n",
    "display(featureScores)\n",
    "display(featureScores.shape)"
   ]
  },
  {
   "cell_type": "code",
   "execution_count": null,
   "metadata": {},
   "outputs": [],
   "source": []
  },
  {
   "cell_type": "code",
   "execution_count": null,
   "metadata": {},
   "outputs": [],
   "source": [
    "feature_column_names = ['raisedhands','VisITedResources','AnnouncementsView']\n",
    "                        \n",
    "predicted_class_name = ['Class']\n",
    "\n",
    "# Getting feature variable values\n",
    "X = final_data_frame[feature_column_names].values\n",
    "y = final_data_frame[predicted_class_name].values\n",
    "\n",
    "# Saving 30% for testing\n",
    "split_test_size = 0.30\n",
    "\n",
    "# Splitting using scikit-learn train_test_split function\n",
    "X_train, X_test, y_train, y_test = train_test_split(X, y, test_size = split_test_size, random_state = 42)"
   ]
  },
  {
   "cell_type": "code",
   "execution_count": null,
   "metadata": {},
   "outputs": [],
   "source": [
    "print(\"{0:0.2f}% in training set\".format((len(X_train)/len(data_frame.index)) * 100))\n",
    "print(\"{0:0.2f}% in test set\".format((len(X_test)/len(data_frame.index)) * 100))"
   ]
  },
  {
   "cell_type": "code",
   "execution_count": null,
   "metadata": {},
   "outputs": [],
   "source": [
    "from tensorflow.keras.models import Sequential\n",
    "from tensorflow.keras.layers import Dense, Activation\n",
    "from tensorflow.keras.optimizers import Adam\n",
    "from tensorflow.keras import backend as K\n",
    "\n",
    "from tensorflow.keras.metrics import categorical_crossentropy"
   ]
  },
  {
   "cell_type": "code",
   "execution_count": null,
   "metadata": {},
   "outputs": [],
   "source": [
    "  print(feature_column_names)\n",
    "  classifier = Sequential()\n",
    "\n",
    "# Adding the input layer and the first hidden layer\n",
    "  classifier.add(Dense(units = 76, kernel_initializer = 'uniform', activation = 'relu', input_dim = 3))\n",
    "\n",
    "# Adding the second hidden layer\n",
    "  classifier.add(Dense(units = 62, kernel_initializer = 'uniform', activation = 'relu'))\n",
    "\n",
    "# Adding the third hidden layer\n",
    "  classifier.add(Dense(units = 56, kernel_initializer = 'uniform', activation = 'relu'))\n",
    "\n",
    "# Adding the fourth hidden layer\n",
    "  classifier.add(Dense(units = 52, kernel_initializer = 'uniform', activation = 'relu'))\n",
    "\n",
    "# Adding the fifth hidden layer\n",
    "  classifier.add(Dense(units = 46, kernel_initializer = 'uniform', activation = 'relu'))\n",
    "\n",
    "# Adding the output layer\n",
    "  classifier.add(Dense(units = 3, kernel_initializer = 'uniform', activation = 'sigmoid'))\n",
    "\n",
    "# Compiling the ANN\n",
    "  classifier.compile(Adam(lr=.001), loss = 'sparse_categorical_crossentropy', metrics = ['accuracy'])\n",
    "\n",
    "# Fitting the ANN to the Training set\n",
    "  classifier.fit(X_train, y_train, batch_size =42 , epochs = 600)\n",
    "  \n",
    "\n",
    "  # Predicting the Test set results\n",
    "  predictions = classifier.predict(X_test)\n",
    "  \n",
    "  for p in predictions:\n",
    "    print(p)\n",
    "\n",
    "  accuracy = (predictions[0][0]+predictions[1][1])/(predictions[0][0]+predictions[0][1]+predictions[1][0]+predictions[1][1])\n",
    "  acc = str(accuracy*100)\n",
    "  print(\"Accuracy: \"+ acc+\"%\")"
   ]
  },
  {
   "cell_type": "code",
   "execution_count": null,
   "metadata": {},
   "outputs": [],
   "source": []
  },
  {
   "cell_type": "code",
   "execution_count": null,
   "metadata": {},
   "outputs": [],
   "source": []
  },
  {
   "cell_type": "code",
   "execution_count": null,
   "metadata": {},
   "outputs": [],
   "source": []
  }
 ],
 "metadata": {
  "kernelspec": {
   "display_name": "Python 3",
   "language": "python",
   "name": "python3"
  },
  "language_info": {
   "codemirror_mode": {
    "name": "ipython",
    "version": 3
   },
   "file_extension": ".py",
   "mimetype": "text/x-python",
   "name": "python",
   "nbconvert_exporter": "python",
   "pygments_lexer": "ipython3",
   "version": "3.8.5"
  }
 },
 "nbformat": 4,
 "nbformat_minor": 2
}
